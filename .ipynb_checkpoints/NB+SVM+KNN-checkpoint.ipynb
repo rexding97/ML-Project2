{
 "cells": [
  {
   "cell_type": "code",
   "execution_count": 2,
   "metadata": {},
   "outputs": [],
   "source": [
    "import numpy as np\n",
    "import pandas as pd\n",
    "from sklearn.linear_model import LogisticRegression\n",
    "from sklearn.model_selection import train_test_split,cross_validate\n",
    "\n",
    "from sklearn import datasets, svm\n",
    "from sklearn.feature_extraction.text import CountVectorizer\n",
    "from sklearn.naive_bayes import GaussianNB, MultinomialNB\n",
    "from sklearn.neighbors import KNeighborsClassifier\n",
    "from sklearn.tree import DecisionTreeClassifier\n",
    "from sklearn.dummy import DummyClassifier\n",
    "from sklearn.model_selection import GridSearchCV\n",
    "from sklearn.pipeline import Pipeline\n",
    "from sklearn.feature_extraction.text import TfidfTransformer\n",
    "from sklearn.metrics import classification_report, confusion_matrix"
   ]
  },
  {
   "cell_type": "code",
   "execution_count": 10,
   "metadata": {},
   "outputs": [],
   "source": [
    "# load datasets\n",
    "review_text_test = pd.read_csv(\"COMP30027_2020_assignment2_datasets\\\\review_text_test.csv\")\n",
    "review_text_train = pd.read_csv(\"COMP30027_2020_assignment2_datasets\\\\review_text_train.csv\")\n",
    "review_text_test_meta = pd.read_csv(\"COMP30027_2020_assignment2_datasets\\\\review_meta_test.csv\")\n",
    "review_text_train_meta = pd.read_csv(\"COMP30027_2020_assignment2_datasets\\\\review_meta_train.csv\")\n",
    "review50=pd.read_csv(\"COMP30027_2020_assignment2_datasets\\\\review_text_train_doc2vec50.csv\",header=None)"
   ]
  },
  {
   "cell_type": "code",
   "execution_count": null,
   "metadata": {},
   "outputs": [],
   "source": [
    "#NB\n",
    "NB_clf=Pipeline([(\"vect\", CountVectorizer(stop_words=\"english\", decode_error=\"ignore\")), \n",
    "                (\"tfidf\",TfidfTransformer()),\n",
    "                (\"clf\", GaussianNB())])\n",
    "NB_clf=NB_clf.fit(review_text_train[\"review\"],review_text_train_meta[\"rating\"])\n",
    "NBparameters={\n",
    "\n",
    "     'tfidf__use_idf':(True,False),\n",
    "    \"clf__var_smoothing\":[1e-8,1e-9]\n",
    "}\n",
    "NBgs_clf = GridSearchCV(NB_clf,NBparameters, cv = 5, n_jobs=-1)\n",
    "NBgs_clf=NBgs_clf.fit(review_text_train[\"review\"], review_text_train_meta[\"rating\"])\n",
    "NBgs_clf.best_estimator_"
   ]
  },
  {
   "cell_type": "code",
   "execution_count": 14,
   "metadata": {},
   "outputs": [
    {
     "name": "stderr",
     "output_type": "stream",
     "text": [
      "C:\\Users\\maoya\\Anaconda3\\lib\\site-packages\\sklearn\\model_selection\\_split.py:2053: FutureWarning: You should specify a value for 'cv' instead of relying on the default value. The default value will change from 3 to 5 in version 0.22.\n",
      "  warnings.warn(CV_WARNING, FutureWarning)\n"
     ]
    }
   ],
   "source": [
    "review_text_train50 = pd.read_csv(\"COMP30027_2020_assignment2_datasets\\\\review_text_train_doc2vec50.csv\")\n",
    "reviews=review_text_train_meta[[\"vote_funny\",\"vote_cool\",\"vote_useful\"]]\n",
    "NB=KNeighborsClassifier()\n",
    "NB.fit(reviews,review_text_train_meta[\"rating\"])\n",
    "\n",
    "score=cross_validate(NB,reviews,review_text_train_meta[\"rating\"])"
   ]
  },
  {
   "cell_type": "code",
   "execution_count": 15,
   "metadata": {},
   "outputs": [
    {
     "name": "stderr",
     "output_type": "stream",
     "text": [
      "C:\\Users\\maoya\\Anaconda3\\lib\\site-packages\\sklearn\\utils\\deprecation.py:125: FutureWarning: You are accessing a training score ('train_score'), which will not be available by default any more in 0.21. If you need training scores, please set return_train_score=True\n",
      "  warnings.warn(*warn_args, **warn_kwargs)\n"
     ]
    },
    {
     "data": {
      "text/plain": [
       "{'fit_time': array([0.21191955, 0.22789812, 0.22539973]),\n",
       " 'score_time': array([0.73704314, 0.6502986 , 0.65151691]),\n",
       " 'test_score': array([0.68226996, 0.66438649, 0.67642972]),\n",
       " 'train_score': array([0.68751002, 0.6713339 , 0.68097045])}"
      ]
     },
     "execution_count": 15,
     "metadata": {},
     "output_type": "execute_result"
    }
   ],
   "source": [
    "score"
   ]
  },
  {
   "cell_type": "code",
   "execution_count": 17,
   "metadata": {},
   "outputs": [
    {
     "ename": "NameError",
     "evalue": "name 'GridSeachCV' is not defined",
     "output_type": "error",
     "traceback": [
      "\u001b[1;31m---------------------------------------------------------------------------\u001b[0m",
      "\u001b[1;31mNameError\u001b[0m                                 Traceback (most recent call last)",
      "\u001b[1;32m<ipython-input-17-bfddbfd2859e>\u001b[0m in \u001b[0;36m<module>\u001b[1;34m\u001b[0m\n\u001b[0;32m     10\u001b[0m \u001b[1;33m\u001b[0m\u001b[0m\n\u001b[0;32m     11\u001b[0m }\n\u001b[1;32m---> 12\u001b[1;33m \u001b[0mSVMgs_clf\u001b[0m \u001b[1;33m=\u001b[0m \u001b[0mGridSeachCV\u001b[0m\u001b[1;33m(\u001b[0m\u001b[0mSVM_clf\u001b[0m\u001b[1;33m,\u001b[0m\u001b[0mSVMparameters\u001b[0m\u001b[1;33m,\u001b[0m \u001b[0mcv\u001b[0m \u001b[1;33m=\u001b[0m \u001b[1;36m5\u001b[0m\u001b[1;33m,\u001b[0m \u001b[0mn_jobs\u001b[0m\u001b[1;33m=\u001b[0m\u001b[1;33m-\u001b[0m\u001b[1;36m1\u001b[0m\u001b[1;33m)\u001b[0m\u001b[1;33m\u001b[0m\u001b[1;33m\u001b[0m\u001b[0m\n\u001b[0m\u001b[0;32m     13\u001b[0m \u001b[0mSVMgs_clf\u001b[0m\u001b[1;33m=\u001b[0m\u001b[0mSVMgs_clf\u001b[0m\u001b[1;33m.\u001b[0m\u001b[0mfit\u001b[0m\u001b[1;33m(\u001b[0m\u001b[0mreview_text_train\u001b[0m\u001b[1;33m[\u001b[0m\u001b[1;34m\"review\"\u001b[0m\u001b[1;33m]\u001b[0m\u001b[1;33m,\u001b[0m \u001b[0mreview_text_train_meta\u001b[0m\u001b[1;33m[\u001b[0m\u001b[1;34m\"rating\"\u001b[0m\u001b[1;33m]\u001b[0m\u001b[1;33m)\u001b[0m\u001b[1;33m\u001b[0m\u001b[1;33m\u001b[0m\u001b[0m\n\u001b[0;32m     14\u001b[0m \u001b[0mSVMgs_clf\u001b[0m\u001b[1;33m.\u001b[0m\u001b[0mbest_estimator_\u001b[0m\u001b[1;33m\u001b[0m\u001b[1;33m\u001b[0m\u001b[0m\n",
      "\u001b[1;31mNameError\u001b[0m: name 'GridSeachCV' is not defined"
     ]
    }
   ],
   "source": [
    "#SVM\n",
    "SVM_clf=Pipeline([(\"vect\", CountVectorizer(stop_words=\"english\", decode_error=\"ignore\")), \n",
    "                (\"tfidf\",TfidfTransformer()),\n",
    "                (\"clf\", svm.SVC(kernel='rbf', gamma=0.7, C=1.0))])\n",
    "SVM_clf= SVM_clf.fit(review_text_train[\"review\"],review_text_train_meta[\"rating\"])\n",
    "SVMparameters={\n",
    "    \n",
    "    'tfidf__use_idf':(True,False),\n",
    "    \"clf__kernel\":[\"linear\",\"rbf\",\"poly\"]\n",
    "\n",
    "}\n",
    "SVMgs_clf = GridSeachCV(SVM_clf,SVMparameters, cv = 5, n_jobs=-1)\n",
    "SVMgs_clf=SVMgs_clf.fit(review_text_train[\"review\"], review_text_train_meta[\"rating\"])\n",
    "SVMgs_clf.best_estimator_"
   ]
  },
  {
   "cell_type": "code",
   "execution_count": null,
   "metadata": {},
   "outputs": [],
   "source": [
    "#kNN\n",
    "KNN_clf=Pipeline([(\"vect\", CountVectorizer(stop_words=\"english\", decode_error=\"ignore\")), \n",
    "                (\"tfidf\",TfidfTransformer()),\n",
    "                (\"clf\", KNeighborsClassifier())])\n",
    "KNN_clf=KNN_clf.fit()\n",
    "KNNparameters={\n",
    "    \n",
    "    'tfidf__use_idf':(True,False),\n",
    "    \"clf__n_neighbors\":[3,5,7]\n",
    "}\n",
    "KNNgs_clf = GridSeachCV(KNN_clf,KNNparameters, cv = 5, n_jobs=-1)\n",
    "KNNgs_clf=KNNgs_clf.fit(review_text_train[\"review\"], review_text_train_meta[\"rating\"])\n",
    "KNNgs_clf.best_estimator_"
   ]
  },
  {
   "cell_type": "code",
   "execution_count": 7,
   "metadata": {},
   "outputs": [],
   "source": [
    "NB50=GaussianNB()"
   ]
  },
  {
   "cell_type": "code",
   "execution_count": 11,
   "metadata": {},
   "outputs": [
    {
     "data": {
      "text/plain": [
       "GaussianNB(priors=None, var_smoothing=1e-09)"
      ]
     },
     "execution_count": 11,
     "metadata": {},
     "output_type": "execute_result"
    }
   ],
   "source": [
    "NB50.fit(review50, review_text_train_meta[\"rating\"])"
   ]
  },
  {
   "cell_type": "code",
   "execution_count": 12,
   "metadata": {},
   "outputs": [
    {
     "ename": "TypeError",
     "evalue": "A sparse matrix was passed, but dense data is required. Use X.toarray() to convert to a dense numpy array.",
     "output_type": "error",
     "traceback": [
      "\u001b[1;31m---------------------------------------------------------------------------\u001b[0m",
      "\u001b[1;31mTypeError\u001b[0m                                 Traceback (most recent call last)",
      "\u001b[1;32m<ipython-input-12-964bf9a3ff68>\u001b[0m in \u001b[0;36m<module>\u001b[1;34m\u001b[0m\n\u001b[0;32m      3\u001b[0m                 \u001b[1;33m(\u001b[0m\u001b[1;34m\"tfidf\"\u001b[0m\u001b[1;33m,\u001b[0m\u001b[0mTfidfTransformer\u001b[0m\u001b[1;33m(\u001b[0m\u001b[1;33m)\u001b[0m\u001b[1;33m)\u001b[0m\u001b[1;33m,\u001b[0m\u001b[1;33m\u001b[0m\u001b[1;33m\u001b[0m\u001b[0m\n\u001b[0;32m      4\u001b[0m                 (\"clf\", GaussianNB())])\n\u001b[1;32m----> 5\u001b[1;33m \u001b[0mNB_clf\u001b[0m\u001b[1;33m=\u001b[0m\u001b[0mNB_clf\u001b[0m\u001b[1;33m.\u001b[0m\u001b[0mfit\u001b[0m\u001b[1;33m(\u001b[0m\u001b[0mreview_text_train\u001b[0m\u001b[1;33m[\u001b[0m\u001b[1;34m\"review\"\u001b[0m\u001b[1;33m]\u001b[0m\u001b[1;33m,\u001b[0m\u001b[0mreview_text_train_meta\u001b[0m\u001b[1;33m[\u001b[0m\u001b[1;34m\"rating\"\u001b[0m\u001b[1;33m]\u001b[0m\u001b[1;33m)\u001b[0m\u001b[1;33m\u001b[0m\u001b[1;33m\u001b[0m\u001b[0m\n\u001b[0m\u001b[0;32m      6\u001b[0m NBparameters={\n\u001b[0;32m      7\u001b[0m \u001b[1;33m\u001b[0m\u001b[0m\n",
      "\u001b[1;32m~\\Anaconda3\\lib\\site-packages\\sklearn\\pipeline.py\u001b[0m in \u001b[0;36mfit\u001b[1;34m(self, X, y, **fit_params)\u001b[0m\n\u001b[0;32m    265\u001b[0m         \u001b[0mXt\u001b[0m\u001b[1;33m,\u001b[0m \u001b[0mfit_params\u001b[0m \u001b[1;33m=\u001b[0m \u001b[0mself\u001b[0m\u001b[1;33m.\u001b[0m\u001b[0m_fit\u001b[0m\u001b[1;33m(\u001b[0m\u001b[0mX\u001b[0m\u001b[1;33m,\u001b[0m \u001b[0my\u001b[0m\u001b[1;33m,\u001b[0m \u001b[1;33m**\u001b[0m\u001b[0mfit_params\u001b[0m\u001b[1;33m)\u001b[0m\u001b[1;33m\u001b[0m\u001b[1;33m\u001b[0m\u001b[0m\n\u001b[0;32m    266\u001b[0m         \u001b[1;32mif\u001b[0m \u001b[0mself\u001b[0m\u001b[1;33m.\u001b[0m\u001b[0m_final_estimator\u001b[0m \u001b[1;32mis\u001b[0m \u001b[1;32mnot\u001b[0m \u001b[1;32mNone\u001b[0m\u001b[1;33m:\u001b[0m\u001b[1;33m\u001b[0m\u001b[1;33m\u001b[0m\u001b[0m\n\u001b[1;32m--> 267\u001b[1;33m             \u001b[0mself\u001b[0m\u001b[1;33m.\u001b[0m\u001b[0m_final_estimator\u001b[0m\u001b[1;33m.\u001b[0m\u001b[0mfit\u001b[0m\u001b[1;33m(\u001b[0m\u001b[0mXt\u001b[0m\u001b[1;33m,\u001b[0m \u001b[0my\u001b[0m\u001b[1;33m,\u001b[0m \u001b[1;33m**\u001b[0m\u001b[0mfit_params\u001b[0m\u001b[1;33m)\u001b[0m\u001b[1;33m\u001b[0m\u001b[1;33m\u001b[0m\u001b[0m\n\u001b[0m\u001b[0;32m    268\u001b[0m         \u001b[1;32mreturn\u001b[0m \u001b[0mself\u001b[0m\u001b[1;33m\u001b[0m\u001b[1;33m\u001b[0m\u001b[0m\n\u001b[0;32m    269\u001b[0m \u001b[1;33m\u001b[0m\u001b[0m\n",
      "\u001b[1;32m~\\Anaconda3\\lib\\site-packages\\sklearn\\naive_bayes.py\u001b[0m in \u001b[0;36mfit\u001b[1;34m(self, X, y, sample_weight)\u001b[0m\n\u001b[0;32m    188\u001b[0m         \u001b[0mself\u001b[0m \u001b[1;33m:\u001b[0m \u001b[0mobject\u001b[0m\u001b[1;33m\u001b[0m\u001b[1;33m\u001b[0m\u001b[0m\n\u001b[0;32m    189\u001b[0m         \"\"\"\n\u001b[1;32m--> 190\u001b[1;33m         \u001b[0mX\u001b[0m\u001b[1;33m,\u001b[0m \u001b[0my\u001b[0m \u001b[1;33m=\u001b[0m \u001b[0mcheck_X_y\u001b[0m\u001b[1;33m(\u001b[0m\u001b[0mX\u001b[0m\u001b[1;33m,\u001b[0m \u001b[0my\u001b[0m\u001b[1;33m)\u001b[0m\u001b[1;33m\u001b[0m\u001b[1;33m\u001b[0m\u001b[0m\n\u001b[0m\u001b[0;32m    191\u001b[0m         return self._partial_fit(X, y, np.unique(y), _refit=True,\n\u001b[0;32m    192\u001b[0m                                  sample_weight=sample_weight)\n",
      "\u001b[1;32m~\\Anaconda3\\lib\\site-packages\\sklearn\\utils\\validation.py\u001b[0m in \u001b[0;36mcheck_X_y\u001b[1;34m(X, y, accept_sparse, accept_large_sparse, dtype, order, copy, force_all_finite, ensure_2d, allow_nd, multi_output, ensure_min_samples, ensure_min_features, y_numeric, warn_on_dtype, estimator)\u001b[0m\n\u001b[0;32m    754\u001b[0m                     \u001b[0mensure_min_features\u001b[0m\u001b[1;33m=\u001b[0m\u001b[0mensure_min_features\u001b[0m\u001b[1;33m,\u001b[0m\u001b[1;33m\u001b[0m\u001b[1;33m\u001b[0m\u001b[0m\n\u001b[0;32m    755\u001b[0m                     \u001b[0mwarn_on_dtype\u001b[0m\u001b[1;33m=\u001b[0m\u001b[0mwarn_on_dtype\u001b[0m\u001b[1;33m,\u001b[0m\u001b[1;33m\u001b[0m\u001b[1;33m\u001b[0m\u001b[0m\n\u001b[1;32m--> 756\u001b[1;33m                     estimator=estimator)\n\u001b[0m\u001b[0;32m    757\u001b[0m     \u001b[1;32mif\u001b[0m \u001b[0mmulti_output\u001b[0m\u001b[1;33m:\u001b[0m\u001b[1;33m\u001b[0m\u001b[1;33m\u001b[0m\u001b[0m\n\u001b[0;32m    758\u001b[0m         y = check_array(y, 'csr', force_all_finite=True, ensure_2d=False,\n",
      "\u001b[1;32m~\\Anaconda3\\lib\\site-packages\\sklearn\\utils\\validation.py\u001b[0m in \u001b[0;36mcheck_array\u001b[1;34m(array, accept_sparse, accept_large_sparse, dtype, order, copy, force_all_finite, ensure_2d, allow_nd, ensure_min_samples, ensure_min_features, warn_on_dtype, estimator)\u001b[0m\n\u001b[0;32m    515\u001b[0m                                       \u001b[0mdtype\u001b[0m\u001b[1;33m=\u001b[0m\u001b[0mdtype\u001b[0m\u001b[1;33m,\u001b[0m \u001b[0mcopy\u001b[0m\u001b[1;33m=\u001b[0m\u001b[0mcopy\u001b[0m\u001b[1;33m,\u001b[0m\u001b[1;33m\u001b[0m\u001b[1;33m\u001b[0m\u001b[0m\n\u001b[0;32m    516\u001b[0m                                       \u001b[0mforce_all_finite\u001b[0m\u001b[1;33m=\u001b[0m\u001b[0mforce_all_finite\u001b[0m\u001b[1;33m,\u001b[0m\u001b[1;33m\u001b[0m\u001b[1;33m\u001b[0m\u001b[0m\n\u001b[1;32m--> 517\u001b[1;33m                                       accept_large_sparse=accept_large_sparse)\n\u001b[0m\u001b[0;32m    518\u001b[0m     \u001b[1;32melse\u001b[0m\u001b[1;33m:\u001b[0m\u001b[1;33m\u001b[0m\u001b[1;33m\u001b[0m\u001b[0m\n\u001b[0;32m    519\u001b[0m         \u001b[1;31m# If np.array(..) gives ComplexWarning, then we convert the warning\u001b[0m\u001b[1;33m\u001b[0m\u001b[1;33m\u001b[0m\u001b[1;33m\u001b[0m\u001b[0m\n",
      "\u001b[1;32m~\\Anaconda3\\lib\\site-packages\\sklearn\\utils\\validation.py\u001b[0m in \u001b[0;36m_ensure_sparse_format\u001b[1;34m(spmatrix, accept_sparse, dtype, copy, force_all_finite, accept_large_sparse)\u001b[0m\n\u001b[0;32m    316\u001b[0m \u001b[1;33m\u001b[0m\u001b[0m\n\u001b[0;32m    317\u001b[0m     \u001b[1;32mif\u001b[0m \u001b[0maccept_sparse\u001b[0m \u001b[1;32mis\u001b[0m \u001b[1;32mFalse\u001b[0m\u001b[1;33m:\u001b[0m\u001b[1;33m\u001b[0m\u001b[1;33m\u001b[0m\u001b[0m\n\u001b[1;32m--> 318\u001b[1;33m         raise TypeError('A sparse matrix was passed, but dense '\n\u001b[0m\u001b[0;32m    319\u001b[0m                         \u001b[1;34m'data is required. Use X.toarray() to '\u001b[0m\u001b[1;33m\u001b[0m\u001b[1;33m\u001b[0m\u001b[0m\n\u001b[0;32m    320\u001b[0m                         'convert to a dense numpy array.')\n",
      "\u001b[1;31mTypeError\u001b[0m: A sparse matrix was passed, but dense data is required. Use X.toarray() to convert to a dense numpy array."
     ]
    }
   ],
   "source": [
    "#NB\n",
    "NB_clf=Pipeline([(\"vect\", CountVectorizer(stop_words=\"english\", decode_error=\"ignore\")), \n",
    "                (\"tfidf\",TfidfTransformer()),\n",
    "                (\"clf\", GaussianNB())])\n",
    "NB_clf=NB_clf.fit(review_text_train[\"review\"],review_text_train_meta[\"rating\"])\n",
    "NBparameters={\n",
    "\n",
    "     'tfidf__use_idf':(True,False),\n",
    "    \"clf__var_smoothing\":[1e-8,1e-9]\n",
    "}\n",
    "NBgs_clf = GridSearchCV(NB_clf,NBparameters, cv = 5, n_jobs=-1)\n",
    "NBgs_clf=NBgs_clf.fit(review50, review_text_train_meta[\"rating\"])\n",
    "NBgs_clf.best_estimator_"
   ]
  },
  {
   "cell_type": "code",
   "execution_count": null,
   "metadata": {},
   "outputs": [],
   "source": [
    "#SVM\n",
    "SVM_clf=Pipeline([(\"vect\", CountVectorizer(stop_words=\"english\", decode_error=\"ignore\")), \n",
    "                (\"tfidf\",TfidfTransformer()),\n",
    "                (\"clf\", svm.SVC(kernel='rbf', gamma=0.7, C=1.0))])\n",
    "SVM_clf= SVM_clf.fit(review_text_train[\"review\"],review_text_train_meta[\"rating\"])\n",
    "SVMparameters={\n",
    "    \n",
    "    'tfidf__use_idf':(True,False),\n",
    "    \"clf__kernel\":[\"linear\",\"rbf\",\"poly\"]\n",
    "\n",
    "}\n",
    "SVMgs_clf = GridSeachCV(SVM_clf,SVMparameters, cv = 5, n_jobs=-1)\n",
    "SVMgs_clf=SVMgs_clf.fit(review50, review_text_train_meta[\"rating\"])\n",
    "SVMgs_clf.best_estimator_"
   ]
  },
  {
   "cell_type": "code",
   "execution_count": null,
   "metadata": {},
   "outputs": [],
   "source": [
    "#kNN\n",
    "KNN_clf=Pipeline([(\"vect\", CountVectorizer(stop_words=\"english\", decode_error=\"ignore\")), \n",
    "                (\"tfidf\",TfidfTransformer()),\n",
    "                (\"clf\", KNeighborsClassifier())])\n",
    "KNN_clf=KNN_clf.fit()\n",
    "KNNparameters={\n",
    "    \n",
    "    'tfidf__use_idf':(True,False),\n",
    "    \"clf__n_neighbors\":[3,5,7]\n",
    "}\n",
    "KNNgs_clf = GridSeachCV(KNN_clf,KNNparameters, cv = 5, n_jobs=-1)\n",
    "KNNgs_clf=KNNgs_clf.fit(review50, review_text_train_meta[\"rating\"])\n",
    "KNNgs_clf.best_estimator_"
   ]
  },
  {
   "cell_type": "code",
   "execution_count": null,
   "metadata": {},
   "outputs": [],
   "source": []
  }
 ],
 "metadata": {
  "kernelspec": {
   "display_name": "Python 3",
   "language": "python",
   "name": "python3"
  },
  "language_info": {
   "codemirror_mode": {
    "name": "ipython",
    "version": 3
   },
   "file_extension": ".py",
   "mimetype": "text/x-python",
   "name": "python",
   "nbconvert_exporter": "python",
   "pygments_lexer": "ipython3",
   "version": "3.7.1"
  }
 },
 "nbformat": 4,
 "nbformat_minor": 2
}
