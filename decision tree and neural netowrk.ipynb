{
 "cells": [
  {
   "cell_type": "code",
   "execution_count": 2,
   "metadata": {},
   "outputs": [],
   "source": [
    "import numpy as np\n",
    "import pandas as pd\n",
    "from matplotlib import pyplot as plt\n",
    "from sklearn.metrics import mean_squared_error, r2_score\n",
    "from sklearn.metrics import classification_report, confusion_matrix"
   ]
  },
  {
   "cell_type": "code",
   "execution_count": 3,
   "metadata": {},
   "outputs": [],
   "source": [
    "from sklearn.tree import DecisionTreeClassifier"
   ]
  },
  {
   "cell_type": "code",
   "execution_count": 34,
   "metadata": {},
   "outputs": [],
   "source": [
    "# load datasets\n",
    "review_text_test = pd.read_csv(\"COMP30027_2020_assignment2_datasets\\\\review_text_test.csv\")\n",
    "review_text_train = pd.read_csv(\"COMP30027_2020_assignment2_datasets\\\\review_text_train.csv\")\n",
    "review_text_test_meta = pd.read_csv(\"COMP30027_2020_assignment2_datasets\\\\review_meta_test.csv\")\n",
    "review_text_train_meta = pd.read_csv(\"COMP30027_2020_assignment2_datasets\\\\review_meta_train.csv\")"
   ]
  },
  {
   "cell_type": "code",
   "execution_count": 38,
   "metadata": {},
   "outputs": [
    {
     "data": {
      "text/html": [
       "<div>\n",
       "<style scoped>\n",
       "    .dataframe tbody tr th:only-of-type {\n",
       "        vertical-align: middle;\n",
       "    }\n",
       "\n",
       "    .dataframe tbody tr th {\n",
       "        vertical-align: top;\n",
       "    }\n",
       "\n",
       "    .dataframe thead th {\n",
       "        text-align: right;\n",
       "    }\n",
       "</style>\n",
       "<table border=\"1\" class=\"dataframe\">\n",
       "  <thead>\n",
       "    <tr style=\"text-align: right;\">\n",
       "      <th></th>\n",
       "      <th>review</th>\n",
       "    </tr>\n",
       "  </thead>\n",
       "  <tbody>\n",
       "    <tr>\n",
       "      <td>0</td>\n",
       "      <td>dear longman &amp; eagle.......you've left me no c...</td>\n",
       "    </tr>\n",
       "    <tr>\n",
       "      <td>1</td>\n",
       "      <td>Delish. The hubby and I wanted to do brunch on...</td>\n",
       "    </tr>\n",
       "    <tr>\n",
       "      <td>2</td>\n",
       "      <td>yep, I've giving Yolk 5 stars. It's just reall...</td>\n",
       "    </tr>\n",
       "    <tr>\n",
       "      <td>3</td>\n",
       "      <td>Meat, meat, meat. It's meat-tastic. So much me...</td>\n",
       "    </tr>\n",
       "    <tr>\n",
       "      <td>4</td>\n",
       "      <td>I caught up with the law school girls on a Sat...</td>\n",
       "    </tr>\n",
       "    <tr>\n",
       "      <td>...</td>\n",
       "      <td>...</td>\n",
       "    </tr>\n",
       "    <tr>\n",
       "      <td>28063</td>\n",
       "      <td>This afternoon I went to Yolk with my college ...</td>\n",
       "    </tr>\n",
       "    <tr>\n",
       "      <td>28064</td>\n",
       "      <td>Place has lots of side dishes. But that's abou...</td>\n",
       "    </tr>\n",
       "    <tr>\n",
       "      <td>28065</td>\n",
       "      <td>I am a huge fan of Brazillian steakhouses I've...</td>\n",
       "    </tr>\n",
       "    <tr>\n",
       "      <td>28066</td>\n",
       "      <td>Great Brunch.\\n</td>\n",
       "    </tr>\n",
       "    <tr>\n",
       "      <td>28067</td>\n",
       "      <td>I love The Chicago Diner. I first came here ab...</td>\n",
       "    </tr>\n",
       "  </tbody>\n",
       "</table>\n",
       "<p>28068 rows × 1 columns</p>\n",
       "</div>"
      ],
      "text/plain": [
       "                                                  review\n",
       "0      dear longman & eagle.......you've left me no c...\n",
       "1      Delish. The hubby and I wanted to do brunch on...\n",
       "2      yep, I've giving Yolk 5 stars. It's just reall...\n",
       "3      Meat, meat, meat. It's meat-tastic. So much me...\n",
       "4      I caught up with the law school girls on a Sat...\n",
       "...                                                  ...\n",
       "28063  This afternoon I went to Yolk with my college ...\n",
       "28064  Place has lots of side dishes. But that's abou...\n",
       "28065  I am a huge fan of Brazillian steakhouses I've...\n",
       "28066                                    Great Brunch.\\n\n",
       "28067  I love The Chicago Diner. I first came here ab...\n",
       "\n",
       "[28068 rows x 1 columns]"
      ]
     },
     "execution_count": 38,
     "metadata": {},
     "output_type": "execute_result"
    }
   ],
   "source": [
    "review_text_train"
   ]
  },
  {
   "cell_type": "code",
   "execution_count": 37,
   "metadata": {},
   "outputs": [
    {
     "data": {
      "text/html": [
       "<div>\n",
       "<style scoped>\n",
       "    .dataframe tbody tr th:only-of-type {\n",
       "        vertical-align: middle;\n",
       "    }\n",
       "\n",
       "    .dataframe tbody tr th {\n",
       "        vertical-align: top;\n",
       "    }\n",
       "\n",
       "    .dataframe thead th {\n",
       "        text-align: right;\n",
       "    }\n",
       "</style>\n",
       "<table border=\"1\" class=\"dataframe\">\n",
       "  <thead>\n",
       "    <tr style=\"text-align: right;\">\n",
       "      <th></th>\n",
       "      <th>date</th>\n",
       "      <th>review_id</th>\n",
       "      <th>reviewer_id</th>\n",
       "      <th>business_id</th>\n",
       "      <th>vote_funny</th>\n",
       "      <th>vote_cool</th>\n",
       "      <th>vote_useful</th>\n",
       "      <th>rating</th>\n",
       "    </tr>\n",
       "  </thead>\n",
       "  <tbody>\n",
       "    <tr>\n",
       "      <td>0</td>\n",
       "      <td>3/15/2012</td>\n",
       "      <td>-s77HISu8DVQ8F0HxmWW6A</td>\n",
       "      <td>mthr7h15a_z9m9jRI6mG6Q</td>\n",
       "      <td>m5_GCJP2W4zEJnyVgxa3eA</td>\n",
       "      <td>0</td>\n",
       "      <td>1</td>\n",
       "      <td>3</td>\n",
       "      <td>1</td>\n",
       "    </tr>\n",
       "    <tr>\n",
       "      <td>1</td>\n",
       "      <td>6/21/2010</td>\n",
       "      <td>A2aCzGCgg6gAbatHiCrPfA</td>\n",
       "      <td>rhM01fl3iU0xHr3TIpCMhQ</td>\n",
       "      <td>m5_GCJP2W4zEJnyVgxa3eA</td>\n",
       "      <td>0</td>\n",
       "      <td>0</td>\n",
       "      <td>0</td>\n",
       "      <td>5</td>\n",
       "    </tr>\n",
       "    <tr>\n",
       "      <td>2</td>\n",
       "      <td>7/29/2011</td>\n",
       "      <td>DK2pd</td>\n",
       "      <td>SNHKDgmGiLn5chUlhdLCkg</td>\n",
       "      <td>CwPi6NVuJIZZx4IBcTekFQ</td>\n",
       "      <td>1</td>\n",
       "      <td>0</td>\n",
       "      <td>1</td>\n",
       "      <td>5</td>\n",
       "    </tr>\n",
       "    <tr>\n",
       "      <td>3</td>\n",
       "      <td>3/10/2006</td>\n",
       "      <td>b3BkUiWJEKNQko</td>\n",
       "      <td>HXjk1RVfLMPeZxitnk1Auw</td>\n",
       "      <td>43rd1LKcZRIunySzbMsyLQ</td>\n",
       "      <td>17</td>\n",
       "      <td>3</td>\n",
       "      <td>3</td>\n",
       "      <td>3</td>\n",
       "    </tr>\n",
       "    <tr>\n",
       "      <td>4</td>\n",
       "      <td>8/28/2012</td>\n",
       "      <td>RabHhte</td>\n",
       "      <td>W0ny0BqO0OJ4K4aVnSIlBw</td>\n",
       "      <td>CwPi6NVuJIZZx4IBcTekFQ</td>\n",
       "      <td>0</td>\n",
       "      <td>0</td>\n",
       "      <td>0</td>\n",
       "      <td>3</td>\n",
       "    </tr>\n",
       "    <tr>\n",
       "      <td>...</td>\n",
       "      <td>...</td>\n",
       "      <td>...</td>\n",
       "      <td>...</td>\n",
       "      <td>...</td>\n",
       "      <td>...</td>\n",
       "      <td>...</td>\n",
       "      <td>...</td>\n",
       "      <td>...</td>\n",
       "    </tr>\n",
       "    <tr>\n",
       "      <td>28063</td>\n",
       "      <td>5/8/2008</td>\n",
       "      <td>AoNuz5VBHjul-xWpp7Nbbg</td>\n",
       "      <td>JU96tV1CNyw5G03Yv79PRA</td>\n",
       "      <td>CwPi6NVuJIZZx4IBcTekFQ</td>\n",
       "      <td>0</td>\n",
       "      <td>0</td>\n",
       "      <td>0</td>\n",
       "      <td>1</td>\n",
       "    </tr>\n",
       "    <tr>\n",
       "      <td>28064</td>\n",
       "      <td>8/12/2012</td>\n",
       "      <td>F4b9FwPxyMRQO86eFiyYEA</td>\n",
       "      <td>IpVFQuWk4gEgQQ_XmzjeQQ</td>\n",
       "      <td>_n3OmwreEGPQmiHKklsD8w</td>\n",
       "      <td>0</td>\n",
       "      <td>0</td>\n",
       "      <td>0</td>\n",
       "      <td>1</td>\n",
       "    </tr>\n",
       "    <tr>\n",
       "      <td>28065</td>\n",
       "      <td>3/11/2010</td>\n",
       "      <td>D6Vel2u0lHi7QJK-jx</td>\n",
       "      <td>-vywj5I_Bh1FOzTe_sbQUw</td>\n",
       "      <td>43rd1LKcZRIunySzbMsyLQ</td>\n",
       "      <td>0</td>\n",
       "      <td>0</td>\n",
       "      <td>5</td>\n",
       "      <td>5</td>\n",
       "    </tr>\n",
       "    <tr>\n",
       "      <td>28066</td>\n",
       "      <td>3/9/2011</td>\n",
       "      <td>JSZrJ1yvndgXSKazIBkAOg</td>\n",
       "      <td>sjR61dvvQODav54vBNk0cg</td>\n",
       "      <td>dKcO9OQ44RPRlkWe-vToFA</td>\n",
       "      <td>0</td>\n",
       "      <td>0</td>\n",
       "      <td>0</td>\n",
       "      <td>5</td>\n",
       "    </tr>\n",
       "    <tr>\n",
       "      <td>28067</td>\n",
       "      <td>10/10/2010</td>\n",
       "      <td>zTSZdljMJlXWL-vC72dzkg</td>\n",
       "      <td>sI9qKo-i2fGPxNBfJEY-kw</td>\n",
       "      <td>o54U2VkQama8FI30qDkWvw</td>\n",
       "      <td>0</td>\n",
       "      <td>0</td>\n",
       "      <td>0</td>\n",
       "      <td>5</td>\n",
       "    </tr>\n",
       "  </tbody>\n",
       "</table>\n",
       "<p>28068 rows × 8 columns</p>\n",
       "</div>"
      ],
      "text/plain": [
       "             date               review_id             reviewer_id  \\\n",
       "0       3/15/2012  -s77HISu8DVQ8F0HxmWW6A  mthr7h15a_z9m9jRI6mG6Q   \n",
       "1       6/21/2010  A2aCzGCgg6gAbatHiCrPfA  rhM01fl3iU0xHr3TIpCMhQ   \n",
       "2       7/29/2011                   DK2pd  SNHKDgmGiLn5chUlhdLCkg   \n",
       "3       3/10/2006          b3BkUiWJEKNQko  HXjk1RVfLMPeZxitnk1Auw   \n",
       "4       8/28/2012                 RabHhte  W0ny0BqO0OJ4K4aVnSIlBw   \n",
       "...           ...                     ...                     ...   \n",
       "28063    5/8/2008  AoNuz5VBHjul-xWpp7Nbbg  JU96tV1CNyw5G03Yv79PRA   \n",
       "28064   8/12/2012  F4b9FwPxyMRQO86eFiyYEA  IpVFQuWk4gEgQQ_XmzjeQQ   \n",
       "28065   3/11/2010      D6Vel2u0lHi7QJK-jx  -vywj5I_Bh1FOzTe_sbQUw   \n",
       "28066    3/9/2011  JSZrJ1yvndgXSKazIBkAOg  sjR61dvvQODav54vBNk0cg   \n",
       "28067  10/10/2010  zTSZdljMJlXWL-vC72dzkg  sI9qKo-i2fGPxNBfJEY-kw   \n",
       "\n",
       "                  business_id  vote_funny  vote_cool  vote_useful  rating  \n",
       "0      m5_GCJP2W4zEJnyVgxa3eA           0          1            3       1  \n",
       "1      m5_GCJP2W4zEJnyVgxa3eA           0          0            0       5  \n",
       "2      CwPi6NVuJIZZx4IBcTekFQ           1          0            1       5  \n",
       "3      43rd1LKcZRIunySzbMsyLQ          17          3            3       3  \n",
       "4      CwPi6NVuJIZZx4IBcTekFQ           0          0            0       3  \n",
       "...                       ...         ...        ...          ...     ...  \n",
       "28063  CwPi6NVuJIZZx4IBcTekFQ           0          0            0       1  \n",
       "28064  _n3OmwreEGPQmiHKklsD8w           0          0            0       1  \n",
       "28065  43rd1LKcZRIunySzbMsyLQ           0          0            5       5  \n",
       "28066  dKcO9OQ44RPRlkWe-vToFA           0          0            0       5  \n",
       "28067  o54U2VkQama8FI30qDkWvw           0          0            0       5  \n",
       "\n",
       "[28068 rows x 8 columns]"
      ]
     },
     "execution_count": 37,
     "metadata": {},
     "output_type": "execute_result"
    }
   ],
   "source": [
    "review_text_train_meta"
   ]
  },
  {
   "cell_type": "code",
   "execution_count": null,
   "metadata": {},
   "outputs": [],
   "source": []
  },
  {
   "cell_type": "code",
   "execution_count": 68,
   "metadata": {},
   "outputs": [],
   "source": [
    "from sklearn.pipeline import Pipeline\n",
    "from sklearn.feature_extraction.text import CountVectorizer\n",
    "from sklearn.feature_extraction.text import TfidfTransformer\n",
    "\n",
    "text_clf = Pipeline([('vect',CountVectorizer(stop_words=\"english\",decode_error='ignore')),\n",
    "                    ('tfidf',TfidfTransformer()),\n",
    "                    ('clf',DecisionTreeClassifier(max_depth = 20)),\n",
    "                    ])\n",
    "\n",
    "text_clf = text_clf.fit(review_text_train[\"review\"],review_text_train_meta[\"rating\"])"
   ]
  },
  {
   "cell_type": "code",
   "execution_count": 69,
   "metadata": {},
   "outputs": [
    {
     "data": {
      "text/plain": [
       "0.857916488527861"
      ]
     },
     "execution_count": 69,
     "metadata": {},
     "output_type": "execute_result"
    }
   ],
   "source": [
    "predicted = text_clf.predict(review_text_train[\"review\"])\n",
    "np.mean(predicted == review_text_train_meta[\"rating\"])"
   ]
  },
  {
   "cell_type": "code",
   "execution_count": 74,
   "metadata": {},
   "outputs": [],
   "source": [
    "from sklearn.model_selection import GridSearchCV\n",
    "parameters = {\n",
    "            'vect__ngram_range':[(1,1),(1,2)],\n",
    "             'tfidf__use_idf':(True,False),\n",
    "             'clf__max_depth':[8,10,12,14,16,18,20]\n",
    "             }"
   ]
  },
  {
   "cell_type": "code",
   "execution_count": 75,
   "metadata": {
    "scrolled": false
   },
   "outputs": [],
   "source": [
    "gs_clf = GridSearchCV(text_clf,parameters,cv = 5,n_jobs = -1)\n",
    "gs_clf = gs_clf.fit(review_text_train[\"review\"],review_text_train_meta[\"rating\"])"
   ]
  },
  {
   "cell_type": "code",
   "execution_count": 77,
   "metadata": {},
   "outputs": [
    {
     "data": {
      "text/plain": [
       "Pipeline(memory=None,\n",
       "         steps=[('vect',\n",
       "                 CountVectorizer(analyzer='word', binary=False,\n",
       "                                 decode_error='ignore',\n",
       "                                 dtype=<class 'numpy.int64'>, encoding='utf-8',\n",
       "                                 input='content', lowercase=True, max_df=1.0,\n",
       "                                 max_features=None, min_df=1,\n",
       "                                 ngram_range=(1, 2), preprocessor=None,\n",
       "                                 stop_words='english', strip_accents=None,\n",
       "                                 token_pattern='(?u)\\\\b\\\\w\\\\w+\\\\b',\n",
       "                                 tokenizer=None, vocabular...\n",
       "                 TfidfTransformer(norm='l2', smooth_idf=True,\n",
       "                                  sublinear_tf=False, use_idf=False)),\n",
       "                ('clf',\n",
       "                 DecisionTreeClassifier(class_weight=None, criterion='gini',\n",
       "                                        max_depth=16, max_features=None,\n",
       "                                        max_leaf_nodes=None,\n",
       "                                        min_impurity_decrease=0.0,\n",
       "                                        min_impurity_split=None,\n",
       "                                        min_samples_leaf=1, min_samples_split=2,\n",
       "                                        min_weight_fraction_leaf=0.0,\n",
       "                                        presort=False, random_state=None,\n",
       "                                        splitter='best'))],\n",
       "         verbose=False)"
      ]
     },
     "execution_count": 77,
     "metadata": {},
     "output_type": "execute_result"
    }
   ],
   "source": [
    "gs_clf.best_estimator_"
   ]
  },
  {
   "cell_type": "code",
   "execution_count": 76,
   "metadata": {},
   "outputs": [
    {
     "data": {
      "text/plain": [
       "0.8201154339461308"
      ]
     },
     "execution_count": 76,
     "metadata": {},
     "output_type": "execute_result"
    }
   ],
   "source": [
    "predicted = gs_clf.best_estimator_.predict(review_text_train[\"review\"])\n",
    "np.mean(predicted == review_text_train_meta[\"rating\"])"
   ]
  },
  {
   "cell_type": "code",
   "execution_count": null,
   "metadata": {},
   "outputs": [],
   "source": [
    "from sklearn.neural_network import MLPClassifier\n",
    "\n",
    "\n",
    "MLP_clf = Pipeline([('vect',CountVectorizer(stop_words=\"english\",decode_error='ignore')),\n",
    "                    ('tfidf',TfidfTransformer()),\n",
    "                    ('clf',MLPClassifier()),\n",
    "                    ])\n",
    "\n",
    "parameters = {\n",
    "            'vect__ngram_range':[(1,1),(1,2)],\n",
    "             'tfidf__use_idf':(True,False),\n",
    "             'clf__hidden_layer_sizes':[(i*20,)*i  for i in range(5,10)]\n",
    "             'clf__alpha':[0.00001, 0.0001,0.001]\n",
    "             }\n",
    "\n",
    "gs_clf = GridSearchCV(MLP_clf,parameters,cv = 5,n_jobs = -1)\n",
    "gs_clf = gs_clf.fit(review_text_train[\"review\"],review_text_train_meta[\"rating\"])"
   ]
  },
  {
   "cell_type": "code",
   "execution_count": 80,
   "metadata": {},
   "outputs": [
    {
     "data": {
      "text/plain": [
       "[(100, 100, 100, 100, 100),\n",
       " (120, 120, 120, 120, 120, 120),\n",
       " (140, 140, 140, 140, 140, 140, 140),\n",
       " (160, 160, 160, 160, 160, 160, 160, 160),\n",
       " (180, 180, 180, 180, 180, 180, 180, 180, 180)]"
      ]
     },
     "execution_count": 80,
     "metadata": {},
     "output_type": "execute_result"
    }
   ],
   "source": [
    " [(i*20,)*i  for i in range(5,10) ]"
   ]
  }
 ],
 "metadata": {
  "kernelspec": {
   "display_name": "Python 3",
   "language": "python",
   "name": "python3"
  },
  "language_info": {
   "codemirror_mode": {
    "name": "ipython",
    "version": 3
   },
   "file_extension": ".py",
   "mimetype": "text/x-python",
   "name": "python",
   "nbconvert_exporter": "python",
   "pygments_lexer": "ipython3",
   "version": "3.7.4"
  }
 },
 "nbformat": 4,
 "nbformat_minor": 2
}
