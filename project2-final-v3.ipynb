{
 "cells": [
  {
   "cell_type": "markdown",
   "metadata": {},
   "source": [
    "\n",
    "### The University of Melbourne, School of Computing and Information Systems\n",
    "# COMP30027 Machine Learning, 2020 Semester 1\n",
    "\n",
    "## Assignment 2\n"
   ]
  },
  {
   "cell_type": "markdown",
   "metadata": {},
   "source": [
    "**Student Name(s):**    `Yanze Mao, Dong Cheng Ding\n",
    "\n",
    "**Student ID(s):**     `988142 952328"
   ]
  },
  {
   "cell_type": "code",
   "execution_count": 1,
   "metadata": {},
   "outputs": [],
   "source": [
    "import numpy as np\n",
    "import pandas as pd\n",
    "from sklearn.linear_model import LogisticRegression\n",
    "from sklearn.model_selection import train_test_split,cross_validate\n",
    "\n",
    "from sklearn.model_selection import GridSearchCV\n",
    "from sklearn.pipeline import Pipeline\n",
    "from collections import defaultdict\n",
    "\n",
    "from sklearn import datasets, svm\n",
    "from sklearn.feature_extraction.text import CountVectorizer\n",
    "from sklearn.naive_bayes import GaussianNB, MultinomialNB\n",
    "from sklearn.neighbors import KNeighborsClassifier\n",
    "from sklearn.tree import DecisionTreeClassifier\n",
    "from sklearn.dummy import DummyClassifier\n",
    "from sklearn.feature_extraction.text import TfidfTransformer\n",
    "from sklearn.metrics import classification_report, confusion_matrix\n",
    "from sklearn.neural_network import MLPClassifier\n",
    "from sklearn.ensemble import RandomForestClassifier"
   ]
  },
  {
   "cell_type": "code",
   "execution_count": 2,
   "metadata": {},
   "outputs": [],
   "source": [
    "# load datasets\n",
    "review_text_test = pd.read_csv(\"COMP30027_2020_assignment2_datasets\\\\review_text_test.csv\")\n",
    "review_text_train = pd.read_csv(\"COMP30027_2020_assignment2_datasets\\\\review_text_train.csv\")\n",
    "review_text_test_meta = pd.read_csv(\"COMP30027_2020_assignment2_datasets\\\\review_meta_test.csv\")\n",
    "review_text_train_meta = pd.read_csv(\"COMP30027_2020_assignment2_datasets\\\\review_meta_train.csv\")\n",
    "review50=pd.read_csv(\"COMP30027_2020_assignment2_datasets\\\\review_text_train_doc2vec50.csv\",header=None)\n",
    "review100=pd.read_csv(\"COMP30027_2020_assignment2_datasets\\\\review_text_train_doc2vec100.csv\",header=None)\n",
    "review50_test=pd.read_csv(\"COMP30027_2020_assignment2_datasets\\\\review_text_test_doc2vec50.csv\",header=None)\n",
    "review100_test=pd.read_csv(\"COMP30027_2020_assignment2_datasets\\\\review_text_test_doc2vec100.csv\",header=None)\n"
   ]
  },
  {
   "cell_type": "markdown",
   "metadata": {},
   "source": [
    "# Adjustment for different models"
   ]
  },
  {
   "cell_type": "markdown",
   "metadata": {},
   "source": [
    "## Navie Bayes"
   ]
  },
  {
   "cell_type": "code",
   "execution_count": 70,
   "metadata": {},
   "outputs": [],
   "source": [
    "# MultinomialNB with countvectorizer\n",
    "\n",
    "NB_clf=Pipeline([(\"vect\", CountVectorizer(stop_words=\"english\", decode_error=\"ignore\")), \n",
    "                (\"tfidf\",TfidfTransformer()),\n",
    "                (\"clf\", MultinomialNB())])\n",
    "NBparameters={\n",
    "     'tfidf__use_idf':(True,False),\n",
    "    'clf__alpha':[0,0.001,0.01,0.1,0.2],\n",
    "    'clf__fit_prior':[True,False]\n",
    "}\n",
    "NB_clf = GridSearchCV(NB_clf,NBparameters, cv = 5, n_jobs=-1)\n",
    "NB_clf=NB_clf.fit(review_text_train[\"review\"], review_text_train_meta[\"rating\"])"
   ]
  },
  {
   "cell_type": "code",
   "execution_count": 71,
   "metadata": {},
   "outputs": [
    {
     "data": {
      "text/plain": [
       "{'clf__alpha': 0.1, 'clf__fit_prior': False, 'tfidf__use_idf': False}"
      ]
     },
     "execution_count": 71,
     "metadata": {},
     "output_type": "execute_result"
    }
   ],
   "source": [
    "NB_clf.best_params_"
   ]
  },
  {
   "cell_type": "code",
   "execution_count": 72,
   "metadata": {},
   "outputs": [
    {
     "data": {
      "text/plain": [
       "0.8413852073535699"
      ]
     },
     "execution_count": 72,
     "metadata": {},
     "output_type": "execute_result"
    }
   ],
   "source": [
    "NB_clf.best_score_"
   ]
  },
  {
   "cell_type": "code",
   "execution_count": 9,
   "metadata": {},
   "outputs": [],
   "source": [
    "# MultinomialNB with vect50,100,200\n",
    "\n",
    "NB_clf=Pipeline([\n",
    "                (\"clf\", GaussianNB())])\n",
    "NBparameters={\n",
    "    'clf__var_smoothing':[1e-9,1e-8]\n",
    "}\n",
    "NB_clf = GridSearchCV(NB_clf,NBparameters, cv = 5, n_jobs=-1)\n",
    "NB_clf=NB_clf.fit(review50, review_text_train_meta[\"rating\"])"
   ]
  },
  {
   "cell_type": "code",
   "execution_count": 10,
   "metadata": {},
   "outputs": [
    {
     "data": {
      "text/plain": [
       "{'clf__var_smoothing': 1e-09}"
      ]
     },
     "execution_count": 10,
     "metadata": {},
     "output_type": "execute_result"
    }
   ],
   "source": [
    "NB_clf.best_params_"
   ]
  },
  {
   "cell_type": "code",
   "execution_count": 11,
   "metadata": {},
   "outputs": [
    {
     "data": {
      "text/plain": [
       "0.6701938150206641"
      ]
     },
     "execution_count": 11,
     "metadata": {},
     "output_type": "execute_result"
    }
   ],
   "source": [
    "NB_clf.best_score_"
   ]
  },
  {
   "cell_type": "markdown",
   "metadata": {},
   "source": [
    "## Neural Network"
   ]
  },
  {
   "cell_type": "code",
   "execution_count": 61,
   "metadata": {},
   "outputs": [
    {
     "data": {
      "text/plain": [
       "array([0.84683882, 0.85518347, 0.84574279, 0.8376982 , 0.8492516 ])"
      ]
     },
     "execution_count": 61,
     "metadata": {},
     "output_type": "execute_result"
    }
   ],
   "source": [
    "# after adjustment of attributes, the best estimator with countervect:\n",
    "\n",
    "MLP_clf = Pipeline([('vect',CountVectorizer(stop_words=\"english\",decode_error='ignore')),\n",
    "                    (\"tfidf\",TfidfTransformer(use_idf=True)),\n",
    "                    ('clf',MLPClassifier(activation='relu', alpha=1e-05,\n",
    "       hidden_layer_sizes=(80,100,100), solver='lbfgs'))])\n",
    "\n",
    "\n",
    "scores2 = cross_validate(MLP_clf, review_text_train[\"review\"], review_text_train_meta[\"rating\"], cv = 5)\n",
    "scores2[\"test_score\"]"
   ]
  },
  {
   "cell_type": "code",
   "execution_count": 62,
   "metadata": {
    "scrolled": true
   },
   "outputs": [
    {
     "data": {
      "text/plain": [
       "0.8469429769356409"
      ]
     },
     "execution_count": 62,
     "metadata": {},
     "output_type": "execute_result"
    }
   ],
   "source": [
    "scores2[\"test_score\"].mean()"
   ]
  },
  {
   "cell_type": "code",
   "execution_count": 38,
   "metadata": {},
   "outputs": [
    {
     "data": {
      "text/plain": [
       "array([0.75494212, 0.77075169, 0.76505166, 0.76679138, 0.76799715])"
      ]
     },
     "execution_count": 38,
     "metadata": {},
     "output_type": "execute_result"
    }
   ],
   "source": [
    "# after adjustment of attributes, the best estimator with vect50,100,200:\n",
    "\n",
    "MLP_clf = Pipeline([\n",
    "                    ('clf',MLPClassifier(activation='relu', alpha=1e-05,\n",
    "       hidden_layer_sizes=(80,100,100), solver='lbfgs'))])\n",
    "\n",
    "\n",
    "scores2 = cross_validate(MLP_clf, review50, review_text_train_meta[\"rating\"], cv = 5)\n",
    "scores2[\"test_score\"]"
   ]
  },
  {
   "cell_type": "code",
   "execution_count": 40,
   "metadata": {},
   "outputs": [
    {
     "data": {
      "text/plain": [
       "array([0.76028495, 0.76237976, 0.7680798 , 0.76946374, 0.76853172])"
      ]
     },
     "execution_count": 40,
     "metadata": {},
     "output_type": "execute_result"
    }
   ],
   "source": [
    "# after adjustment of attributes, the best estimator with vect50,100,200:\n",
    "\n",
    "MLP_clf = Pipeline([\n",
    "                    ('clf',MLPClassifier(solver='lbfgs'))])\n",
    "\n",
    "\n",
    "scores2 = cross_validate(MLP_clf, review100, review_text_train_meta[\"rating\"], cv = 5)\n",
    "scores2[\"test_score\"]"
   ]
  },
  {
   "cell_type": "markdown",
   "metadata": {},
   "source": [
    "## SVM"
   ]
  },
  {
   "cell_type": "code",
   "execution_count": 12,
   "metadata": {},
   "outputs": [],
   "source": [
    "#SVM with countervect\n",
    "SVM_clf=Pipeline([(\"vect\", CountVectorizer(stop_words=\"english\", decode_error=\"ignore\")), \n",
    "                (\"tfidf\",TfidfTransformer(use_idf=True)),\n",
    "                (\"clf\", svm.SVC(kernel='linear', gamma=0.7, C=1.0))])\n",
    "\n",
    "SVMparameters={\n",
    "    \"clf__gamma\":[0.6,0.7,0.5,0.4],\n",
    "    \"clf__C\":[0.5,0.7,1.0,2.0]\n",
    "}\n",
    "SVMgs_clf = GridSearchCV(SVM_clf,SVMparameters, cv = 5, n_jobs=-1)\n",
    "SVMgs_clf=SVMgs_clf.fit(review_text_train[\"review\"], review_text_train_meta[\"rating\"])"
   ]
  },
  {
   "cell_type": "code",
   "execution_count": 15,
   "metadata": {},
   "outputs": [
    {
     "data": {
      "text/plain": [
       "{'clf__C': 1.0, 'clf__gamma': 0.6}"
      ]
     },
     "execution_count": 15,
     "metadata": {},
     "output_type": "execute_result"
    }
   ],
   "source": [
    "SVMgs_clf.best_params_"
   ]
  },
  {
   "cell_type": "code",
   "execution_count": null,
   "metadata": {},
   "outputs": [],
   "source": [
    "SVMgs_clf.best_score_"
   ]
  },
  {
   "cell_type": "code",
   "execution_count": 5,
   "metadata": {},
   "outputs": [],
   "source": [
    "#SVM with vect100\n",
    "SVM_clf=Pipeline([\n",
    "                (\"clf\", svm.SVC(kernel='linear', gamma=0.7, C=1.0))])\n",
    "\n",
    "SVMparameters={\n",
    "    \"clf__gamma\":[0.6,0.7,0.5,0.4],\n",
    "    \"clf__C\":[0.5,0.7,1.0,2.0]\n",
    "}\n",
    "SVMgs_clf = GridSearchCV(SVM_clf,SVMparameters, cv = 5, n_jobs=-1)\n",
    "SVMgs_clf=SVMgs_clf.fit(review100, review_text_train_meta[\"rating\"])"
   ]
  },
  {
   "cell_type": "code",
   "execution_count": 6,
   "metadata": {
    "scrolled": true
   },
   "outputs": [
    {
     "data": {
      "text/plain": [
       "0.8265640587145504"
      ]
     },
     "execution_count": 6,
     "metadata": {},
     "output_type": "execute_result"
    }
   ],
   "source": [
    "SVMgs_clf.best_score_"
   ]
  },
  {
   "cell_type": "code",
   "execution_count": 7,
   "metadata": {},
   "outputs": [],
   "source": [
    "#SVM with vect100\n",
    "SVM_clf=Pipeline([\n",
    "                (\"clf\", svm.SVC(kernel='linear', gamma=0.7, C=1.0))])\n",
    "\n",
    "SVMparameters={\n",
    "    \"clf__gamma\":[0.6,0.7,0.5,0.4],\n",
    "    \"clf__C\":[0.5,0.7,1.0,2.0]\n",
    "}\n",
    "SVMgs_clf = GridSearchCV(SVM_clf,SVMparameters, cv = 5, n_jobs=-1)\n",
    "SVMgs_clf=SVMgs_clf.fit(review50, review_text_train_meta[\"rating\"])"
   ]
  },
  {
   "cell_type": "code",
   "execution_count": 8,
   "metadata": {},
   "outputs": [
    {
     "data": {
      "text/plain": [
       "0.8165170300698305"
      ]
     },
     "execution_count": 8,
     "metadata": {},
     "output_type": "execute_result"
    }
   ],
   "source": [
    "SVMgs_clf.best_score_"
   ]
  },
  {
   "cell_type": "code",
   "execution_count": 9,
   "metadata": {},
   "outputs": [
    {
     "data": {
      "text/plain": [
       "{'clf__C': 0.7, 'clf__gamma': 0.6}"
      ]
     },
     "execution_count": 9,
     "metadata": {},
     "output_type": "execute_result"
    }
   ],
   "source": [
    "SVMgs_clf.best_params_"
   ]
  },
  {
   "cell_type": "markdown",
   "metadata": {},
   "source": [
    "## RandomForest"
   ]
  },
  {
   "cell_type": "code",
   "execution_count": 19,
   "metadata": {},
   "outputs": [],
   "source": [
    "# randomforestclassifier with countervect\n",
    "RF_clf=Pipeline([(\"vect\", CountVectorizer(stop_words=\"english\", decode_error=\"ignore\")), \n",
    "                (\"tfidf\",TfidfTransformer(use_idf=True)),\n",
    "                (\"clf\", RandomForestClassifier())])\n",
    "\n",
    "RFparameters={\n",
    "    \"tfidf__use_idf\":[True,False],\n",
    "    \"clf__n_estimators\":[100,300,500],\n",
    "    \"clf__criterion\":[\"gini\",\"entropy\"],\n",
    "    \"clf__max_depth\":[10,15,20,30],\n",
    "    \"clf__min_samples_split\":[2,4,6],\n",
    "}\n",
    "RF_clf = GridSearchCV(RF_clf,RFparameters, cv = 5, n_jobs=-1)\n",
    "RF_clf=RF_clf.fit(review_text_train[\"review\"], review_text_train_meta[\"rating\"])"
   ]
  },
  {
   "cell_type": "code",
   "execution_count": 23,
   "metadata": {},
   "outputs": [
    {
     "data": {
      "text/plain": [
       "{'clf__criterion': 'gini',\n",
       " 'clf__max_depth': 30,\n",
       " 'clf__min_samples_split': 2,\n",
       " 'clf__n_estimators': 100,\n",
       " 'tfidf__use_idf': False}"
      ]
     },
     "execution_count": 23,
     "metadata": {},
     "output_type": "execute_result"
    }
   ],
   "source": [
    "RF_clf.best_params_"
   ]
  },
  {
   "cell_type": "code",
   "execution_count": 22,
   "metadata": {},
   "outputs": [
    {
     "data": {
      "text/plain": [
       "0.6955251531993729"
      ]
     },
     "execution_count": 22,
     "metadata": {},
     "output_type": "execute_result"
    }
   ],
   "source": [
    "RF_clf.best_score_"
   ]
  },
  {
   "cell_type": "code",
   "execution_count": 30,
   "metadata": {
    "scrolled": true
   },
   "outputs": [
    {
     "name": "stderr",
     "output_type": "stream",
     "text": [
      "H:\\anaconda3\\lib\\site-packages\\sklearn\\ensemble\\forest.py:245: FutureWarning: The default value of n_estimators will change from 10 in version 0.20 to 100 in 0.22.\n",
      "  \"10 in version 0.20 to 100 in 0.22.\", FutureWarning)\n"
     ]
    },
    {
     "data": {
      "text/plain": [
       "0.7509975773122417"
      ]
     },
     "execution_count": 30,
     "metadata": {},
     "output_type": "execute_result"
    }
   ],
   "source": [
    "# randomforestclassifier with countervect\n",
    "RF_clf=Pipeline([(\"vect\", CountVectorizer(stop_words=\"english\", decode_error=\"ignore\")), \n",
    "                (\"tfidf\",TfidfTransformer(use_idf=True)),\n",
    "                (\"clf\", RandomForestClassifier())])\n",
    "\n",
    "RFparameters={\n",
    "    \"tfidf__use_idf\":[False],\n",
    "    \"clf__criterion\":[\"gini\",\"entropy\"],\n",
    "    \"clf__min_samples_split\":[2,4,6]\n",
    "}\n",
    "RF_clf = GridSearchCV(RF_clf,RFparameters, cv = 5, n_jobs=-1)\n",
    "RF_clf=RF_clf.fit(review_text_train[\"review\"], review_text_train_meta[\"rating\"])\n",
    "RF_clf.best_score_"
   ]
  },
  {
   "cell_type": "code",
   "execution_count": 31,
   "metadata": {
    "scrolled": true
   },
   "outputs": [
    {
     "data": {
      "text/plain": [
       "{'clf__criterion': 'gini',\n",
       " 'clf__min_samples_split': 2,\n",
       " 'tfidf__use_idf': False}"
      ]
     },
     "execution_count": 31,
     "metadata": {},
     "output_type": "execute_result"
    }
   ],
   "source": [
    "RF_clf.best_params_"
   ]
  },
  {
   "cell_type": "code",
   "execution_count": 42,
   "metadata": {},
   "outputs": [
    {
     "name": "stderr",
     "output_type": "stream",
     "text": [
      "H:\\anaconda3\\lib\\site-packages\\sklearn\\ensemble\\forest.py:245: FutureWarning: The default value of n_estimators will change from 10 in version 0.20 to 100 in 0.22.\n",
      "  \"10 in version 0.20 to 100 in 0.22.\", FutureWarning)\n"
     ]
    },
    {
     "data": {
      "text/plain": [
       "0.7535271483539975"
      ]
     },
     "execution_count": 42,
     "metadata": {},
     "output_type": "execute_result"
    }
   ],
   "source": [
    "# randomforestclassifier with vect50\n",
    "RF_clf=Pipeline([\n",
    "                (\"clf\", RandomForestClassifier())])\n",
    "\n",
    "RFparameters={\n",
    "    \"clf__criterion\":[\"gini\",\"entropy\"],\n",
    "    \"clf__min_samples_split\":[6,8,9,10,12]\n",
    "}\n",
    "RF_clf = GridSearchCV(RF_clf,RFparameters, cv = 5, n_jobs=-1)\n",
    "RF_clf=RF_clf.fit(review50, review_text_train_meta[\"rating\"])\n",
    "RF_clf.best_score_"
   ]
  },
  {
   "cell_type": "code",
   "execution_count": 43,
   "metadata": {},
   "outputs": [
    {
     "data": {
      "text/plain": [
       "{'clf__criterion': 'entropy', 'clf__min_samples_split': 9}"
      ]
     },
     "execution_count": 43,
     "metadata": {},
     "output_type": "execute_result"
    }
   ],
   "source": [
    "RF_clf.best_params_"
   ]
  },
  {
   "cell_type": "code",
   "execution_count": 46,
   "metadata": {
    "scrolled": true
   },
   "outputs": [
    {
     "name": "stderr",
     "output_type": "stream",
     "text": [
      "H:\\anaconda3\\lib\\site-packages\\sklearn\\ensemble\\forest.py:245: FutureWarning: The default value of n_estimators will change from 10 in version 0.20 to 100 in 0.22.\n",
      "  \"10 in version 0.20 to 100 in 0.22.\", FutureWarning)\n"
     ]
    },
    {
     "data": {
      "text/plain": [
       "0.7399173435941285"
      ]
     },
     "execution_count": 46,
     "metadata": {},
     "output_type": "execute_result"
    }
   ],
   "source": [
    "# randomforestclassifier with vect100\n",
    "RF_clf=Pipeline([\n",
    "                (\"clf\", RandomForestClassifier())])\n",
    "\n",
    "RFparameters={\n",
    "    \"clf__criterion\":[\"gini\",\"entropy\"],\n",
    "    \"clf__min_samples_split\":[6,8,9,10,12,20]\n",
    "}\n",
    "RF_clf = GridSearchCV(RF_clf,RFparameters, cv = 5, n_jobs=-1)\n",
    "RF_clf=RF_clf.fit(review100, review_text_train_meta[\"rating\"])\n",
    "RF_clf.best_score_"
   ]
  },
  {
   "cell_type": "code",
   "execution_count": 47,
   "metadata": {
    "scrolled": true
   },
   "outputs": [
    {
     "data": {
      "text/plain": [
       "{'clf__criterion': 'entropy', 'clf__min_samples_split': 20}"
      ]
     },
     "execution_count": 47,
     "metadata": {},
     "output_type": "execute_result"
    }
   ],
   "source": [
    "RF_clf.best_params_"
   ]
  },
  {
   "cell_type": "markdown",
   "metadata": {},
   "source": [
    "# Final model After adjustment"
   ]
  },
  {
   "cell_type": "code",
   "execution_count": 3,
   "metadata": {},
   "outputs": [],
   "source": [
    "RF_clf = RandomForestClassifier(criterion=\"entropy\", min_samples_split=9) # vect50\n",
    "\n",
    "SVM_clf = SVM_clf=Pipeline([(\"vect\", CountVectorizer(stop_words=\"english\", decode_error=\"ignore\")), \n",
    "                (\"tfidf\",TfidfTransformer(use_idf=True)),\n",
    "                (\"clf\", svm.SVC(kernel='linear', gamma=0.6, C=1.0))]) # countvect\n",
    "\n",
    "NB_clf=Pipeline([(\"vect\", CountVectorizer(stop_words=\"english\", decode_error=\"ignore\")), \n",
    "                (\"tfidf\",TfidfTransformer(use_idf=False)),\n",
    "                (\"clf\", MultinomialNB(alpha=0.1, fit_prior=False))]) # countvect\n",
    "\n",
    "MLP_clf = Pipeline([('vect',CountVectorizer(stop_words=\"english\",decode_error='ignore')),\n",
    "                    (\"tfidf\",TfidfTransformer(use_idf=True)),\n",
    "                    ('clf',MLPClassifier(activation='relu', alpha=1e-05, \n",
    "                                         hidden_layer_sizes=(80,100,100), solver='lbfgs'))]) # countvect"
   ]
  },
  {
   "cell_type": "markdown",
   "metadata": {},
   "source": [
    "### Randomforest"
   ]
  },
  {
   "cell_type": "code",
   "execution_count": 4,
   "metadata": {},
   "outputs": [
    {
     "name": "stderr",
     "output_type": "stream",
     "text": [
      "H:\\anaconda3\\lib\\site-packages\\sklearn\\ensemble\\forest.py:245: FutureWarning: The default value of n_estimators will change from 10 in version 0.20 to 100 in 0.22.\n",
      "  \"10 in version 0.20 to 100 in 0.22.\", FutureWarning)\n"
     ]
    }
   ],
   "source": [
    "RF_clf.fit(review50,review_text_train_meta[\"rating\"])\n",
    "RFresult=RF_clf.predict(review50)\n",
    "RFresult_test = RF_clf.predict(review50_test)"
   ]
  },
  {
   "cell_type": "code",
   "execution_count": 6,
   "metadata": {},
   "outputs": [
    {
     "data": {
      "text/plain": [
       "{'fit_time': array([1.7619276 , 1.7715342 , 1.79976439, 1.78024268, 1.80983329]),\n",
       " 'score_time': array([0.00900221, 0.00900197, 0.01001692, 0.00900173, 0.0100019 ]),\n",
       " 'test_score': array([0.74835263, 0.74617029, 0.75222658, 0.73988954, 0.7567712 ])}"
      ]
     },
     "execution_count": 6,
     "metadata": {},
     "output_type": "execute_result"
    }
   ],
   "source": [
    "scores_RF = cross_validate(RF_clf,review50,review_text_train_meta[\"rating\"], cv = 5)\n",
    "scores_RF"
   ]
  },
  {
   "cell_type": "markdown",
   "metadata": {},
   "source": [
    "### Support Vector Machine"
   ]
  },
  {
   "cell_type": "code",
   "execution_count": 7,
   "metadata": {},
   "outputs": [],
   "source": [
    "SVM_clf.fit(review_text_train[\"review\"],review_text_train_meta[\"rating\"])\n",
    "SVMresult=SVM_clf.predict(review_text_train[\"review\"])\n",
    "SVMresult_test = SVM_clf.predict(review_text_test[\"review\"])"
   ]
  },
  {
   "cell_type": "code",
   "execution_count": 8,
   "metadata": {
    "scrolled": true
   },
   "outputs": [
    {
     "data": {
      "text/plain": [
       "{'fit_time': array([122.49035287, 121.97157025, 124.9666214 , 129.3091116 ,\n",
       "        127.50880718]),\n",
       " 'score_time': array([18.68168259, 18.84768295, 19.71837091, 19.65924358, 19.74947739]),\n",
       " 'test_score': array([0.84683882, 0.85696473, 0.85892412, 0.84999109, 0.85531005])}"
      ]
     },
     "execution_count": 8,
     "metadata": {},
     "output_type": "execute_result"
    }
   ],
   "source": [
    "scores_SVM = cross_validate(SVM_clf,review_text_train[\"review\"],review_text_train_meta[\"rating\"], cv = 5)\n",
    "scores_SVM"
   ]
  },
  {
   "cell_type": "markdown",
   "metadata": {},
   "source": [
    "### Neural Network"
   ]
  },
  {
   "cell_type": "code",
   "execution_count": 9,
   "metadata": {},
   "outputs": [],
   "source": [
    "MLP_clf.fit(review_text_train[\"review\"],review_text_train_meta[\"rating\"])\n",
    "MLPresult = MLP_clf.predict(review_text_train[\"review\"])\n",
    "MLPresult_test = MLP_clf.predict(review_text_test[\"review\"])"
   ]
  },
  {
   "cell_type": "code",
   "execution_count": 10,
   "metadata": {},
   "outputs": [
    {
     "data": {
      "text/plain": [
       "{'fit_time': array([65.34776568, 11.13857245,  8.05647826, 71.00578141, 79.45563316]),\n",
       " 'score_time': array([0.45371413, 0.44910407, 0.45605731, 0.44755745, 0.44710016]),\n",
       " 'test_score': array([0.83668744, 0.77395796, 0.76131101, 0.84250846, 0.85370634])}"
      ]
     },
     "execution_count": 10,
     "metadata": {},
     "output_type": "execute_result"
    }
   ],
   "source": [
    "scores_MLP = cross_validate(MLP_clf,review_text_train[\"review\"],review_text_train_meta[\"rating\"], cv = 5)\n",
    "scores_MLP"
   ]
  },
  {
   "cell_type": "markdown",
   "metadata": {},
   "source": [
    "### STACKING"
   ]
  },
  {
   "cell_type": "code",
   "execution_count": 11,
   "metadata": {},
   "outputs": [],
   "source": [
    "other=svm.SVC(kernel='rbf', gamma=0.7, C=1.0)"
   ]
  },
  {
   "cell_type": "code",
   "execution_count": 12,
   "metadata": {},
   "outputs": [],
   "source": [
    "# fit the model\n",
    "NB=NB_clf.fit(review_text_train[\"review\"], review_text_train_meta[\"rating\"])"
   ]
  },
  {
   "cell_type": "code",
   "execution_count": 13,
   "metadata": {},
   "outputs": [],
   "source": [
    "otherinfo = review_text_train_meta[[\"vote_funny\", \"vote_cool\", \"vote_useful\"]]\n",
    "otherinfo_test = review_text_test_meta[[\"vote_funny\", \"vote_cool\", \"vote_useful\"]]"
   ]
  },
  {
   "cell_type": "code",
   "execution_count": 14,
   "metadata": {
    "scrolled": true
   },
   "outputs": [
    {
     "data": {
      "text/plain": [
       "SVC(C=1.0, cache_size=200, class_weight=None, coef0=0.0,\n",
       "    decision_function_shape='ovr', degree=3, gamma=0.7, kernel='rbf',\n",
       "    max_iter=-1, probability=False, random_state=None, shrinking=True,\n",
       "    tol=0.001, verbose=False)"
      ]
     },
     "execution_count": 14,
     "metadata": {},
     "output_type": "execute_result"
    }
   ],
   "source": [
    "other.fit(otherinfo,review_text_train_meta[\"rating\"])"
   ]
  },
  {
   "cell_type": "code",
   "execution_count": 15,
   "metadata": {},
   "outputs": [],
   "source": [
    "# predict the result\n",
    "NBresult=NB.predict(review_text_train[\"review\"])\n",
    "NBresult_test = NB.predict(review_text_test[\"review\"])\n",
    "otherresult = other.predict(otherinfo)\n",
    "otherresult_test = other.predict(otherinfo_test)"
   ]
  },
  {
   "cell_type": "code",
   "execution_count": 164,
   "metadata": {},
   "outputs": [],
   "source": [
    "finaldf = pd.DataFrame([NBresult, SVMresult,RFresult,MLPresult,otherresult]).T"
   ]
  },
  {
   "cell_type": "code",
   "execution_count": 165,
   "metadata": {},
   "outputs": [
    {
     "data": {
      "text/html": [
       "<div>\n",
       "<style scoped>\n",
       "    .dataframe tbody tr th:only-of-type {\n",
       "        vertical-align: middle;\n",
       "    }\n",
       "\n",
       "    .dataframe tbody tr th {\n",
       "        vertical-align: top;\n",
       "    }\n",
       "\n",
       "    .dataframe thead th {\n",
       "        text-align: right;\n",
       "    }\n",
       "</style>\n",
       "<table border=\"1\" class=\"dataframe\">\n",
       "  <thead>\n",
       "    <tr style=\"text-align: right;\">\n",
       "      <th></th>\n",
       "      <th>0</th>\n",
       "      <th>1</th>\n",
       "      <th>2</th>\n",
       "      <th>3</th>\n",
       "      <th>4</th>\n",
       "    </tr>\n",
       "  </thead>\n",
       "  <tbody>\n",
       "    <tr>\n",
       "      <td>0</td>\n",
       "      <td>5</td>\n",
       "      <td>1</td>\n",
       "      <td>1</td>\n",
       "      <td>1</td>\n",
       "      <td>5</td>\n",
       "    </tr>\n",
       "    <tr>\n",
       "      <td>1</td>\n",
       "      <td>5</td>\n",
       "      <td>5</td>\n",
       "      <td>5</td>\n",
       "      <td>5</td>\n",
       "      <td>5</td>\n",
       "    </tr>\n",
       "    <tr>\n",
       "      <td>2</td>\n",
       "      <td>5</td>\n",
       "      <td>5</td>\n",
       "      <td>5</td>\n",
       "      <td>5</td>\n",
       "      <td>5</td>\n",
       "    </tr>\n",
       "    <tr>\n",
       "      <td>3</td>\n",
       "      <td>3</td>\n",
       "      <td>5</td>\n",
       "      <td>5</td>\n",
       "      <td>5</td>\n",
       "      <td>3</td>\n",
       "    </tr>\n",
       "    <tr>\n",
       "      <td>4</td>\n",
       "      <td>3</td>\n",
       "      <td>3</td>\n",
       "      <td>3</td>\n",
       "      <td>3</td>\n",
       "      <td>5</td>\n",
       "    </tr>\n",
       "    <tr>\n",
       "      <td>...</td>\n",
       "      <td>...</td>\n",
       "      <td>...</td>\n",
       "      <td>...</td>\n",
       "      <td>...</td>\n",
       "      <td>...</td>\n",
       "    </tr>\n",
       "    <tr>\n",
       "      <td>28063</td>\n",
       "      <td>1</td>\n",
       "      <td>1</td>\n",
       "      <td>1</td>\n",
       "      <td>1</td>\n",
       "      <td>5</td>\n",
       "    </tr>\n",
       "    <tr>\n",
       "      <td>28064</td>\n",
       "      <td>1</td>\n",
       "      <td>1</td>\n",
       "      <td>1</td>\n",
       "      <td>1</td>\n",
       "      <td>5</td>\n",
       "    </tr>\n",
       "    <tr>\n",
       "      <td>28065</td>\n",
       "      <td>5</td>\n",
       "      <td>5</td>\n",
       "      <td>5</td>\n",
       "      <td>5</td>\n",
       "      <td>1</td>\n",
       "    </tr>\n",
       "    <tr>\n",
       "      <td>28066</td>\n",
       "      <td>5</td>\n",
       "      <td>5</td>\n",
       "      <td>5</td>\n",
       "      <td>5</td>\n",
       "      <td>5</td>\n",
       "    </tr>\n",
       "    <tr>\n",
       "      <td>28067</td>\n",
       "      <td>5</td>\n",
       "      <td>5</td>\n",
       "      <td>5</td>\n",
       "      <td>5</td>\n",
       "      <td>5</td>\n",
       "    </tr>\n",
       "  </tbody>\n",
       "</table>\n",
       "<p>28068 rows × 5 columns</p>\n",
       "</div>"
      ],
      "text/plain": [
       "       0  1  2  3  4\n",
       "0      5  1  1  1  5\n",
       "1      5  5  5  5  5\n",
       "2      5  5  5  5  5\n",
       "3      3  5  5  5  3\n",
       "4      3  3  3  3  5\n",
       "...   .. .. .. .. ..\n",
       "28063  1  1  1  1  5\n",
       "28064  1  1  1  1  5\n",
       "28065  5  5  5  5  1\n",
       "28066  5  5  5  5  5\n",
       "28067  5  5  5  5  5\n",
       "\n",
       "[28068 rows x 5 columns]"
      ]
     },
     "execution_count": 165,
     "metadata": {},
     "output_type": "execute_result"
    }
   ],
   "source": [
    "finaldf"
   ]
  },
  {
   "cell_type": "code",
   "execution_count": 166,
   "metadata": {},
   "outputs": [
    {
     "name": "stderr",
     "output_type": "stream",
     "text": [
      "H:\\anaconda3\\lib\\site-packages\\sklearn\\ensemble\\forest.py:245: FutureWarning: The default value of n_estimators will change from 10 in version 0.20 to 100 in 0.22.\n",
      "  \"10 in version 0.20 to 100 in 0.22.\", FutureWarning)\n"
     ]
    },
    {
     "data": {
      "text/plain": [
       "RandomForestClassifier(bootstrap=True, class_weight=None, criterion='entropy',\n",
       "                       max_depth=None, max_features='auto', max_leaf_nodes=None,\n",
       "                       min_impurity_decrease=0.0, min_impurity_split=None,\n",
       "                       min_samples_leaf=1, min_samples_split=9,\n",
       "                       min_weight_fraction_leaf=0.0, n_estimators=10,\n",
       "                       n_jobs=None, oob_score=False, random_state=None,\n",
       "                       verbose=0, warm_start=False)"
      ]
     },
     "execution_count": 166,
     "metadata": {},
     "output_type": "execute_result"
    }
   ],
   "source": [
    "final=RandomForestClassifier(criterion=\"entropy\", min_samples_split=9)\n",
    "final.fit(finaldf,review_text_train_meta[\"rating\"])"
   ]
  },
  {
   "cell_type": "code",
   "execution_count": 167,
   "metadata": {},
   "outputs": [],
   "source": [
    "#get the predicted results of test\n",
    "\n",
    "predictdf = pd.DataFrame([NBresult_test,\n",
    "                          SVMresult_test,\n",
    "                          RFresult_test,\n",
    "                          MLPresult_test,\n",
    "                          otherresult_test]).T"
   ]
  },
  {
   "cell_type": "code",
   "execution_count": 168,
   "metadata": {},
   "outputs": [
    {
     "name": "stderr",
     "output_type": "stream",
     "text": [
      "H:\\anaconda3\\lib\\site-packages\\sklearn\\ensemble\\forest.py:245: FutureWarning: The default value of n_estimators will change from 10 in version 0.20 to 100 in 0.22.\n",
      "  \"10 in version 0.20 to 100 in 0.22.\", FutureWarning)\n",
      "H:\\anaconda3\\lib\\site-packages\\sklearn\\ensemble\\forest.py:245: FutureWarning: The default value of n_estimators will change from 10 in version 0.20 to 100 in 0.22.\n",
      "  \"10 in version 0.20 to 100 in 0.22.\", FutureWarning)\n",
      "H:\\anaconda3\\lib\\site-packages\\sklearn\\ensemble\\forest.py:245: FutureWarning: The default value of n_estimators will change from 10 in version 0.20 to 100 in 0.22.\n",
      "  \"10 in version 0.20 to 100 in 0.22.\", FutureWarning)\n",
      "H:\\anaconda3\\lib\\site-packages\\sklearn\\ensemble\\forest.py:245: FutureWarning: The default value of n_estimators will change from 10 in version 0.20 to 100 in 0.22.\n",
      "  \"10 in version 0.20 to 100 in 0.22.\", FutureWarning)\n",
      "H:\\anaconda3\\lib\\site-packages\\sklearn\\ensemble\\forest.py:245: FutureWarning: The default value of n_estimators will change from 10 in version 0.20 to 100 in 0.22.\n",
      "  \"10 in version 0.20 to 100 in 0.22.\", FutureWarning)\n"
     ]
    },
    {
     "data": {
      "text/plain": [
       "{'fit_time': array([0.03600621, 0.03500533, 0.03500819, 0.03400755, 0.03400731]),\n",
       " 'score_time': array([0.004004  , 0.0040009 , 0.00400066, 0.00400114, 0.00400043]),\n",
       " 'test_score': array([0.97221728, 0.97239045, 0.97648735, 0.97398895, 0.9725588 ])}"
      ]
     },
     "execution_count": 168,
     "metadata": {},
     "output_type": "execute_result"
    }
   ],
   "source": [
    "final_clf=RandomForestClassifier(criterion=\"entropy\", min_samples_split=9)\n",
    "scores2 = cross_validate(final_clf, finaldf,review_text_train_meta[\"rating\"], cv = 5)\n",
    "scores2"
   ]
  },
  {
   "cell_type": "code",
   "execution_count": 169,
   "metadata": {},
   "outputs": [
    {
     "data": {
      "text/html": [
       "<div>\n",
       "<style scoped>\n",
       "    .dataframe tbody tr th:only-of-type {\n",
       "        vertical-align: middle;\n",
       "    }\n",
       "\n",
       "    .dataframe tbody tr th {\n",
       "        vertical-align: top;\n",
       "    }\n",
       "\n",
       "    .dataframe thead th {\n",
       "        text-align: right;\n",
       "    }\n",
       "</style>\n",
       "<table border=\"1\" class=\"dataframe\">\n",
       "  <thead>\n",
       "    <tr style=\"text-align: right;\">\n",
       "      <th></th>\n",
       "      <th>0</th>\n",
       "    </tr>\n",
       "  </thead>\n",
       "  <tbody>\n",
       "    <tr>\n",
       "      <td>0</td>\n",
       "      <td>5</td>\n",
       "    </tr>\n",
       "    <tr>\n",
       "      <td>1</td>\n",
       "      <td>5</td>\n",
       "    </tr>\n",
       "    <tr>\n",
       "      <td>2</td>\n",
       "      <td>1</td>\n",
       "    </tr>\n",
       "    <tr>\n",
       "      <td>3</td>\n",
       "      <td>5</td>\n",
       "    </tr>\n",
       "    <tr>\n",
       "      <td>4</td>\n",
       "      <td>5</td>\n",
       "    </tr>\n",
       "    <tr>\n",
       "      <td>...</td>\n",
       "      <td>...</td>\n",
       "    </tr>\n",
       "    <tr>\n",
       "      <td>7013</td>\n",
       "      <td>5</td>\n",
       "    </tr>\n",
       "    <tr>\n",
       "      <td>7014</td>\n",
       "      <td>5</td>\n",
       "    </tr>\n",
       "    <tr>\n",
       "      <td>7015</td>\n",
       "      <td>3</td>\n",
       "    </tr>\n",
       "    <tr>\n",
       "      <td>7016</td>\n",
       "      <td>5</td>\n",
       "    </tr>\n",
       "    <tr>\n",
       "      <td>7017</td>\n",
       "      <td>5</td>\n",
       "    </tr>\n",
       "  </tbody>\n",
       "</table>\n",
       "<p>7018 rows × 1 columns</p>\n",
       "</div>"
      ],
      "text/plain": [
       "      0\n",
       "0     5\n",
       "1     5\n",
       "2     1\n",
       "3     5\n",
       "4     5\n",
       "...  ..\n",
       "7013  5\n",
       "7014  5\n",
       "7015  3\n",
       "7016  5\n",
       "7017  5\n",
       "\n",
       "[7018 rows x 1 columns]"
      ]
     },
     "execution_count": 169,
     "metadata": {},
     "output_type": "execute_result"
    }
   ],
   "source": [
    "final_RF=RandomForestClassifier(criterion=\"entropy\", min_samples_split=9)\n",
    "\n",
    "final_NB=MultinomialNB(alpha=0.1, fit_prior=False)\n",
    "final_NB.fit(finaldf,review_text_train_meta[\"rating\"])\n",
    "result_test=pd.DataFrame(final.predict(predictdf))\n",
    "result_test"
   ]
  },
  {
   "cell_type": "code",
   "execution_count": 170,
   "metadata": {},
   "outputs": [],
   "source": [
    "def print_predict(result_test):\n",
    "    id = [i for i in range(1,7019)]\n",
    "    final_df = pd.DataFrame([id, result_test[0]]).T\n",
    "    final_df = final_df.rename(columns={0:\"instance_id\", 1:\"rating\"})\n",
    "    return final_df"
   ]
  },
  {
   "cell_type": "code",
   "execution_count": 40,
   "metadata": {},
   "outputs": [],
   "source": [
    "print_predict(result_test).to_csv(\"predict_test_NB.csv\", index=None)"
   ]
  },
  {
   "cell_type": "code",
   "execution_count": 107,
   "metadata": {},
   "outputs": [
    {
     "data": {
      "text/plain": [
       "0.9639803334758443"
      ]
     },
     "execution_count": 107,
     "metadata": {},
     "output_type": "execute_result"
    }
   ],
   "source": [
    "# self check\n",
    "from sklearn.metrics import accuracy_score\n",
    "\n",
    "predictdf = pd.DataFrame([NB.predict(review_text_train[\"review\"]),\n",
    "                          SVM.predict(review_text_train[\"review\"]),\n",
    "                          RF.predict(review50),\n",
    "                          MLP.predict(review_text_train[\"review\"]),\n",
    "                          other.predict(otherinfo)]).T\n",
    "\n",
    "result=final.predict(predictdf)\n",
    "acc = accuracy_score(review_text_train_meta[\"rating\"],result)\n",
    "acc"
   ]
  },
  {
   "cell_type": "code",
   "execution_count": 24,
   "metadata": {},
   "outputs": [],
   "source": [
    "print_predict(result_test).to_csv(\"SVMpredict.csv\", index = None)"
   ]
  },
  {
   "cell_type": "markdown",
   "metadata": {},
   "source": [
    "#### another try with 1-fold stacking"
   ]
  },
  {
   "cell_type": "code",
   "execution_count": 197,
   "metadata": {},
   "outputs": [
    {
     "data": {
      "text/html": [
       "<div>\n",
       "<style scoped>\n",
       "    .dataframe tbody tr th:only-of-type {\n",
       "        vertical-align: middle;\n",
       "    }\n",
       "\n",
       "    .dataframe tbody tr th {\n",
       "        vertical-align: top;\n",
       "    }\n",
       "\n",
       "    .dataframe thead th {\n",
       "        text-align: right;\n",
       "    }\n",
       "</style>\n",
       "<table border=\"1\" class=\"dataframe\">\n",
       "  <thead>\n",
       "    <tr style=\"text-align: right;\">\n",
       "      <th></th>\n",
       "      <th>0</th>\n",
       "      <th>1</th>\n",
       "      <th>2</th>\n",
       "      <th>3</th>\n",
       "    </tr>\n",
       "  </thead>\n",
       "  <tbody>\n",
       "    <tr>\n",
       "      <td>0</td>\n",
       "      <td>5</td>\n",
       "      <td>5</td>\n",
       "      <td>5</td>\n",
       "      <td>5</td>\n",
       "    </tr>\n",
       "    <tr>\n",
       "      <td>1</td>\n",
       "      <td>5</td>\n",
       "      <td>5</td>\n",
       "      <td>5</td>\n",
       "      <td>5</td>\n",
       "    </tr>\n",
       "    <tr>\n",
       "      <td>2</td>\n",
       "      <td>5</td>\n",
       "      <td>5</td>\n",
       "      <td>5</td>\n",
       "      <td>5</td>\n",
       "    </tr>\n",
       "    <tr>\n",
       "      <td>3</td>\n",
       "      <td>5</td>\n",
       "      <td>5</td>\n",
       "      <td>5</td>\n",
       "      <td>5</td>\n",
       "    </tr>\n",
       "    <tr>\n",
       "      <td>4</td>\n",
       "      <td>3</td>\n",
       "      <td>3</td>\n",
       "      <td>3</td>\n",
       "      <td>1</td>\n",
       "    </tr>\n",
       "    <tr>\n",
       "      <td>...</td>\n",
       "      <td>...</td>\n",
       "      <td>...</td>\n",
       "      <td>...</td>\n",
       "      <td>...</td>\n",
       "    </tr>\n",
       "    <tr>\n",
       "      <td>5609</td>\n",
       "      <td>5</td>\n",
       "      <td>5</td>\n",
       "      <td>5</td>\n",
       "      <td>5</td>\n",
       "    </tr>\n",
       "    <tr>\n",
       "      <td>5610</td>\n",
       "      <td>3</td>\n",
       "      <td>3</td>\n",
       "      <td>3</td>\n",
       "      <td>3</td>\n",
       "    </tr>\n",
       "    <tr>\n",
       "      <td>5611</td>\n",
       "      <td>5</td>\n",
       "      <td>5</td>\n",
       "      <td>5</td>\n",
       "      <td>5</td>\n",
       "    </tr>\n",
       "    <tr>\n",
       "      <td>5612</td>\n",
       "      <td>5</td>\n",
       "      <td>5</td>\n",
       "      <td>5</td>\n",
       "      <td>5</td>\n",
       "    </tr>\n",
       "    <tr>\n",
       "      <td>5613</td>\n",
       "      <td>5</td>\n",
       "      <td>5</td>\n",
       "      <td>5</td>\n",
       "      <td>5</td>\n",
       "    </tr>\n",
       "  </tbody>\n",
       "</table>\n",
       "<p>5614 rows × 4 columns</p>\n",
       "</div>"
      ],
      "text/plain": [
       "      0  1  2  3\n",
       "0     5  5  5  5\n",
       "1     5  5  5  5\n",
       "2     5  5  5  5\n",
       "3     5  5  5  5\n",
       "4     3  3  3  1\n",
       "...  .. .. .. ..\n",
       "5609  5  5  5  5\n",
       "5610  3  3  3  3\n",
       "5611  5  5  5  5\n",
       "5612  5  5  5  5\n",
       "5613  5  5  5  5\n",
       "\n",
       "[5614 rows x 4 columns]"
      ]
     },
     "execution_count": 197,
     "metadata": {},
     "output_type": "execute_result"
    }
   ],
   "source": [
    "finaldf2 = pd.DataFrame([NBresult, SVMresult,RFresult,MLPresult]).T\n",
    "predictdf2 = pd.DataFrame([NBresult_test,SVMresult_test,RFresult_test,MLPresult_test]).T\n",
    "\n",
    "final_NB=MultinomialNB(alpha=0.1, fit_prior=False)\n",
    "final_NB.fit(finaldf2,review_text_train_meta[\"rating\"])\n",
    "result_test=pd.DataFrame(final.predict(predictdf2))\n",
    "result_test"
   ]
  },
  {
   "cell_type": "markdown",
   "metadata": {},
   "source": [
    "### 5-cv stacking"
   ]
  },
  {
   "cell_type": "code",
   "execution_count": 172,
   "metadata": {},
   "outputs": [],
   "source": [
    "df_rating = review_text_train_meta[[\"rating\"]]\n",
    "df_meta = review_text_train_meta[[\"vote_funny\", \"vote_cool\", \"vote_useful\"]]"
   ]
  },
  {
   "cell_type": "code",
   "execution_count": 173,
   "metadata": {},
   "outputs": [],
   "source": [
    "def split(x, y):\n",
    "    x1, remain_x1, y1, remain_y1 = train_test_split(x, y, test_size = 0.8, random_state = 42)\n",
    "    x2, remain_x2, y2, remain_y2 = train_test_split(remain_x1, remain_y1, test_size = 0.75, random_state = 42)\n",
    "    x3, remain_x3, y3, remain_y3 = train_test_split(remain_x2, remain_y2, test_size = 0.6666, random_state = 42)\n",
    "    x4, x5, y4, y5 = train_test_split(remain_x3, remain_y3, test_size = 0.5, random_state = 42)\n",
    "    x_list = [x1, x2, x3, x4, x5]\n",
    "    y_list = [y1, y2, y3, y4, y5]\n",
    "    return [x_list, y_list]"
   ]
  },
  {
   "cell_type": "code",
   "execution_count": 174,
   "metadata": {},
   "outputs": [],
   "source": [
    "x_vect50, y_vect50 = split(review50, df_rating)\n",
    "x_review, y_review = split(review_text_train, df_rating)\n",
    "x_meta, y_meta = split(df_meta, df_rating)"
   ]
  },
  {
   "cell_type": "code",
   "execution_count": 175,
   "metadata": {},
   "outputs": [],
   "source": [
    "\n",
    "def predict(clf, x1, x2, y1):\n",
    "    clf.fit(x1.y1)\n",
    "    return clf.predict(x2)\n"
   ]
  },
  {
   "cell_type": "code",
   "execution_count": 177,
   "metadata": {
    "collapsed": true
   },
   "outputs": [
    {
     "name": "stderr",
     "output_type": "stream",
     "text": [
      "H:\\anaconda3\\lib\\site-packages\\sklearn\\utils\\validation.py:724: DataConversionWarning: A column-vector y was passed when a 1d array was expected. Please change the shape of y to (n_samples, ), for example using ravel().\n",
      "  y = column_or_1d(y, warn=True)\n",
      "H:\\anaconda3\\lib\\site-packages\\sklearn\\ensemble\\forest.py:245: FutureWarning: The default value of n_estimators will change from 10 in version 0.20 to 100 in 0.22.\n",
      "  \"10 in version 0.20 to 100 in 0.22.\", FutureWarning)\n",
      "H:\\anaconda3\\lib\\site-packages\\ipykernel_launcher.py:39: DataConversionWarning: A column-vector y was passed when a 1d array was expected. Please change the shape of y to (n_samples,), for example using ravel().\n",
      "H:\\anaconda3\\lib\\site-packages\\sklearn\\utils\\validation.py:724: DataConversionWarning: A column-vector y was passed when a 1d array was expected. Please change the shape of y to (n_samples, ), for example using ravel().\n",
      "  y = column_or_1d(y, warn=True)\n",
      "H:\\anaconda3\\lib\\site-packages\\sklearn\\neural_network\\multilayer_perceptron.py:921: DataConversionWarning: A column-vector y was passed when a 1d array was expected. Please change the shape of y to (n_samples, ), for example using ravel().\n",
      "  y = column_or_1d(y, warn=True)\n",
      "H:\\anaconda3\\lib\\site-packages\\sklearn\\utils\\validation.py:724: DataConversionWarning: A column-vector y was passed when a 1d array was expected. Please change the shape of y to (n_samples, ), for example using ravel().\n",
      "  y = column_or_1d(y, warn=True)\n",
      "H:\\anaconda3\\lib\\site-packages\\sklearn\\utils\\validation.py:724: DataConversionWarning: A column-vector y was passed when a 1d array was expected. Please change the shape of y to (n_samples, ), for example using ravel().\n",
      "  y = column_or_1d(y, warn=True)\n",
      "H:\\anaconda3\\lib\\site-packages\\sklearn\\ensemble\\forest.py:245: FutureWarning: The default value of n_estimators will change from 10 in version 0.20 to 100 in 0.22.\n",
      "  \"10 in version 0.20 to 100 in 0.22.\", FutureWarning)\n",
      "H:\\anaconda3\\lib\\site-packages\\ipykernel_launcher.py:39: DataConversionWarning: A column-vector y was passed when a 1d array was expected. Please change the shape of y to (n_samples,), for example using ravel().\n",
      "H:\\anaconda3\\lib\\site-packages\\sklearn\\utils\\validation.py:724: DataConversionWarning: A column-vector y was passed when a 1d array was expected. Please change the shape of y to (n_samples, ), for example using ravel().\n",
      "  y = column_or_1d(y, warn=True)\n",
      "H:\\anaconda3\\lib\\site-packages\\sklearn\\neural_network\\multilayer_perceptron.py:921: DataConversionWarning: A column-vector y was passed when a 1d array was expected. Please change the shape of y to (n_samples, ), for example using ravel().\n",
      "  y = column_or_1d(y, warn=True)\n",
      "H:\\anaconda3\\lib\\site-packages\\sklearn\\utils\\validation.py:724: DataConversionWarning: A column-vector y was passed when a 1d array was expected. Please change the shape of y to (n_samples, ), for example using ravel().\n",
      "  y = column_or_1d(y, warn=True)\n",
      "H:\\anaconda3\\lib\\site-packages\\sklearn\\utils\\validation.py:724: DataConversionWarning: A column-vector y was passed when a 1d array was expected. Please change the shape of y to (n_samples, ), for example using ravel().\n",
      "  y = column_or_1d(y, warn=True)\n",
      "H:\\anaconda3\\lib\\site-packages\\sklearn\\ensemble\\forest.py:245: FutureWarning: The default value of n_estimators will change from 10 in version 0.20 to 100 in 0.22.\n",
      "  \"10 in version 0.20 to 100 in 0.22.\", FutureWarning)\n",
      "H:\\anaconda3\\lib\\site-packages\\ipykernel_launcher.py:39: DataConversionWarning: A column-vector y was passed when a 1d array was expected. Please change the shape of y to (n_samples,), for example using ravel().\n",
      "H:\\anaconda3\\lib\\site-packages\\sklearn\\utils\\validation.py:724: DataConversionWarning: A column-vector y was passed when a 1d array was expected. Please change the shape of y to (n_samples, ), for example using ravel().\n",
      "  y = column_or_1d(y, warn=True)\n",
      "H:\\anaconda3\\lib\\site-packages\\sklearn\\neural_network\\multilayer_perceptron.py:921: DataConversionWarning: A column-vector y was passed when a 1d array was expected. Please change the shape of y to (n_samples, ), for example using ravel().\n",
      "  y = column_or_1d(y, warn=True)\n",
      "H:\\anaconda3\\lib\\site-packages\\sklearn\\utils\\validation.py:724: DataConversionWarning: A column-vector y was passed when a 1d array was expected. Please change the shape of y to (n_samples, ), for example using ravel().\n",
      "  y = column_or_1d(y, warn=True)\n",
      "H:\\anaconda3\\lib\\site-packages\\sklearn\\utils\\validation.py:724: DataConversionWarning: A column-vector y was passed when a 1d array was expected. Please change the shape of y to (n_samples, ), for example using ravel().\n",
      "  y = column_or_1d(y, warn=True)\n",
      "H:\\anaconda3\\lib\\site-packages\\sklearn\\ensemble\\forest.py:245: FutureWarning: The default value of n_estimators will change from 10 in version 0.20 to 100 in 0.22.\n",
      "  \"10 in version 0.20 to 100 in 0.22.\", FutureWarning)\n",
      "H:\\anaconda3\\lib\\site-packages\\ipykernel_launcher.py:39: DataConversionWarning: A column-vector y was passed when a 1d array was expected. Please change the shape of y to (n_samples,), for example using ravel().\n",
      "H:\\anaconda3\\lib\\site-packages\\sklearn\\utils\\validation.py:724: DataConversionWarning: A column-vector y was passed when a 1d array was expected. Please change the shape of y to (n_samples, ), for example using ravel().\n",
      "  y = column_or_1d(y, warn=True)\n",
      "H:\\anaconda3\\lib\\site-packages\\sklearn\\neural_network\\multilayer_perceptron.py:921: DataConversionWarning: A column-vector y was passed when a 1d array was expected. Please change the shape of y to (n_samples, ), for example using ravel().\n",
      "  y = column_or_1d(y, warn=True)\n",
      "H:\\anaconda3\\lib\\site-packages\\sklearn\\utils\\validation.py:724: DataConversionWarning: A column-vector y was passed when a 1d array was expected. Please change the shape of y to (n_samples, ), for example using ravel().\n",
      "  y = column_or_1d(y, warn=True)\n",
      "H:\\anaconda3\\lib\\site-packages\\sklearn\\utils\\validation.py:724: DataConversionWarning: A column-vector y was passed when a 1d array was expected. Please change the shape of y to (n_samples, ), for example using ravel().\n",
      "  y = column_or_1d(y, warn=True)\n",
      "H:\\anaconda3\\lib\\site-packages\\sklearn\\ensemble\\forest.py:245: FutureWarning: The default value of n_estimators will change from 10 in version 0.20 to 100 in 0.22.\n",
      "  \"10 in version 0.20 to 100 in 0.22.\", FutureWarning)\n",
      "H:\\anaconda3\\lib\\site-packages\\ipykernel_launcher.py:39: DataConversionWarning: A column-vector y was passed when a 1d array was expected. Please change the shape of y to (n_samples,), for example using ravel().\n",
      "H:\\anaconda3\\lib\\site-packages\\sklearn\\utils\\validation.py:724: DataConversionWarning: A column-vector y was passed when a 1d array was expected. Please change the shape of y to (n_samples, ), for example using ravel().\n",
      "  y = column_or_1d(y, warn=True)\n",
      "H:\\anaconda3\\lib\\site-packages\\sklearn\\neural_network\\multilayer_perceptron.py:921: DataConversionWarning: A column-vector y was passed when a 1d array was expected. Please change the shape of y to (n_samples, ), for example using ravel().\n",
      "  y = column_or_1d(y, warn=True)\n",
      "H:\\anaconda3\\lib\\site-packages\\sklearn\\utils\\validation.py:724: DataConversionWarning: A column-vector y was passed when a 1d array was expected. Please change the shape of y to (n_samples, ), for example using ravel().\n",
      "  y = column_or_1d(y, warn=True)\n"
     ]
    }
   ],
   "source": [
    "#predict use 4 out of 5 x,y\n",
    "final_5_fold = pd.DataFrame([])\n",
    "for test in range(5):\n",
    "    test_meta=x_meta[test]\n",
    "    test_review=x_review[test]\n",
    "    test_vect50=x_vect50[test]\n",
    "    train_meta=pd.DataFrame()\n",
    "    train_review=pd.DataFrame()\n",
    "    train_vect50=pd.DataFrame()\n",
    "    y=pd.DataFrame()\n",
    "\n",
    "    for i in range(5):\n",
    "        if i!=test:\n",
    "            train_meta=pd.concat([train_meta,x_meta[i]])\n",
    "            train_vect50=pd.concat([train_vect50,x_vect50[i]])\n",
    "            \n",
    "            train_review=pd.concat([train_review,x_review[i]])\n",
    "            y=pd.concat([y,y_meta[i]])\n",
    "\n",
    "    RF_clf = RandomForestClassifier(criterion=\"entropy\", min_samples_split=9) # vect50\n",
    "\n",
    "    SVM_clf = SVM_clf=Pipeline([(\"vect\", CountVectorizer(stop_words=\"english\", decode_error=\"ignore\")), \n",
    "                    (\"tfidf\",TfidfTransformer(use_idf=True)),\n",
    "                    (\"clf\", svm.SVC(kernel='linear', gamma=0.6, C=1.0))]) # countvect\n",
    "\n",
    "    NB_clf=Pipeline([(\"vect\", CountVectorizer(stop_words=\"english\", decode_error=\"ignore\")), \n",
    "                    (\"tfidf\",TfidfTransformer(use_idf=False)),\n",
    "                    (\"clf\", MultinomialNB(alpha=0.1, fit_prior=False))]) # countvect\n",
    "\n",
    "    MLP_clf = Pipeline([('vect',CountVectorizer(stop_words=\"english\",decode_error='ignore')),\n",
    "                        (\"tfidf\",TfidfTransformer(use_idf=True)),\n",
    "                        ('clf',MLPClassifier(activation='relu', alpha=1e-05, \n",
    "                         hidden_layer_sizes=(80,100,100), solver='lbfgs'))]) # countvect\n",
    "\n",
    "\n",
    "    other=svm.SVC(kernel='rbf', gamma=0.7, C=1.0)\n",
    "    # fit the model\n",
    "    NB=NB_clf.fit(train_review[\"review\"], y)\n",
    "    RF=RF_clf.fit(train_vect50, y)\n",
    "    SVM=SVM_clf.fit(train_review[\"review\"], y)\n",
    "    MLP=MLP_clf.fit(train_review[\"review\"], y)\n",
    "    other = other.fit(train_meta,y)\n",
    "    \n",
    "    otherinfo=test_meta[[\"vote_funny\", \"vote_cool\", \"vote_useful\"]]\n",
    "    NBresult=NB.predict(test_review[\"review\"])\n",
    "    SVMresult=SVM.predict(test_review[\"review\"])\n",
    "    RFresult=RF.predict(test_vect50)\n",
    "    MLPresult=MLP.predict(test_review[\"review\"])\n",
    "    otherresult = other.predict(otherinfo)\n",
    "\n",
    "    finaldf_part =pd.DataFrame([NBresult,SVMresult,RFresult,MLPresult,otherresult]).T\n",
    "    final_5_fold = pd.concat([final_5_fold,finaldf_part], axis=0)"
   ]
  },
  {
   "cell_type": "code",
   "execution_count": 152,
   "metadata": {
    "collapsed": true
   },
   "outputs": [
    {
     "data": {
      "text/html": [
       "<div>\n",
       "<style scoped>\n",
       "    .dataframe tbody tr th:only-of-type {\n",
       "        vertical-align: middle;\n",
       "    }\n",
       "\n",
       "    .dataframe tbody tr th {\n",
       "        vertical-align: top;\n",
       "    }\n",
       "\n",
       "    .dataframe thead th {\n",
       "        text-align: right;\n",
       "    }\n",
       "</style>\n",
       "<table border=\"1\" class=\"dataframe\">\n",
       "  <thead>\n",
       "    <tr style=\"text-align: right;\">\n",
       "      <th></th>\n",
       "      <th>0</th>\n",
       "      <th>1</th>\n",
       "      <th>2</th>\n",
       "      <th>3</th>\n",
       "      <th>4</th>\n",
       "    </tr>\n",
       "  </thead>\n",
       "  <tbody>\n",
       "    <tr>\n",
       "      <td>0</td>\n",
       "      <td>5</td>\n",
       "      <td>1</td>\n",
       "      <td>5</td>\n",
       "      <td>5</td>\n",
       "      <td>1</td>\n",
       "    </tr>\n",
       "    <tr>\n",
       "      <td>1</td>\n",
       "      <td>5</td>\n",
       "      <td>5</td>\n",
       "      <td>5</td>\n",
       "      <td>5</td>\n",
       "      <td>5</td>\n",
       "    </tr>\n",
       "    <tr>\n",
       "      <td>2</td>\n",
       "      <td>5</td>\n",
       "      <td>5</td>\n",
       "      <td>5</td>\n",
       "      <td>5</td>\n",
       "      <td>5</td>\n",
       "    </tr>\n",
       "    <tr>\n",
       "      <td>3</td>\n",
       "      <td>3</td>\n",
       "      <td>5</td>\n",
       "      <td>3</td>\n",
       "      <td>5</td>\n",
       "      <td>5</td>\n",
       "    </tr>\n",
       "    <tr>\n",
       "      <td>4</td>\n",
       "      <td>3</td>\n",
       "      <td>3</td>\n",
       "      <td>5</td>\n",
       "      <td>3</td>\n",
       "      <td>3</td>\n",
       "    </tr>\n",
       "    <tr>\n",
       "      <td>...</td>\n",
       "      <td>...</td>\n",
       "      <td>...</td>\n",
       "      <td>...</td>\n",
       "      <td>...</td>\n",
       "      <td>...</td>\n",
       "    </tr>\n",
       "    <tr>\n",
       "      <td>28063</td>\n",
       "      <td>1</td>\n",
       "      <td>1</td>\n",
       "      <td>5</td>\n",
       "      <td>1</td>\n",
       "      <td>1</td>\n",
       "    </tr>\n",
       "    <tr>\n",
       "      <td>28064</td>\n",
       "      <td>1</td>\n",
       "      <td>1</td>\n",
       "      <td>5</td>\n",
       "      <td>1</td>\n",
       "      <td>1</td>\n",
       "    </tr>\n",
       "    <tr>\n",
       "      <td>28065</td>\n",
       "      <td>5</td>\n",
       "      <td>5</td>\n",
       "      <td>1</td>\n",
       "      <td>5</td>\n",
       "      <td>5</td>\n",
       "    </tr>\n",
       "    <tr>\n",
       "      <td>28066</td>\n",
       "      <td>5</td>\n",
       "      <td>5</td>\n",
       "      <td>5</td>\n",
       "      <td>5</td>\n",
       "      <td>5</td>\n",
       "    </tr>\n",
       "    <tr>\n",
       "      <td>28067</td>\n",
       "      <td>5</td>\n",
       "      <td>5</td>\n",
       "      <td>5</td>\n",
       "      <td>5</td>\n",
       "      <td>5</td>\n",
       "    </tr>\n",
       "  </tbody>\n",
       "</table>\n",
       "<p>28068 rows × 5 columns</p>\n",
       "</div>"
      ],
      "text/plain": [
       "       0  1  2  3  4\n",
       "0      5  1  5  5  1\n",
       "1      5  5  5  5  5\n",
       "2      5  5  5  5  5\n",
       "3      3  5  3  5  5\n",
       "4      3  3  5  3  3\n",
       "...   .. .. .. .. ..\n",
       "28063  1  1  5  1  1\n",
       "28064  1  1  5  1  1\n",
       "28065  5  5  1  5  5\n",
       "28066  5  5  5  5  5\n",
       "28067  5  5  5  5  5\n",
       "\n",
       "[28068 rows x 5 columns]"
      ]
     },
     "execution_count": 152,
     "metadata": {},
     "output_type": "execute_result"
    }
   ],
   "source": [
    "final_for1fold = pd.DataFrame([NBresult, SVMresult, otherresult,MLPresult,RFresult]).T\n",
    "final_for1fold"
   ]
  },
  {
   "cell_type": "code",
   "execution_count": 187,
   "metadata": {},
   "outputs": [
    {
     "data": {
      "text/html": [
       "<div>\n",
       "<style scoped>\n",
       "    .dataframe tbody tr th:only-of-type {\n",
       "        vertical-align: middle;\n",
       "    }\n",
       "\n",
       "    .dataframe tbody tr th {\n",
       "        vertical-align: top;\n",
       "    }\n",
       "\n",
       "    .dataframe thead th {\n",
       "        text-align: right;\n",
       "    }\n",
       "</style>\n",
       "<table border=\"1\" class=\"dataframe\">\n",
       "  <thead>\n",
       "    <tr style=\"text-align: right;\">\n",
       "      <th></th>\n",
       "      <th>0</th>\n",
       "      <th>1</th>\n",
       "      <th>2</th>\n",
       "      <th>3</th>\n",
       "      <th>4</th>\n",
       "    </tr>\n",
       "  </thead>\n",
       "  <tbody>\n",
       "    <tr>\n",
       "      <td>0</td>\n",
       "      <td>5</td>\n",
       "      <td>5</td>\n",
       "      <td>5</td>\n",
       "      <td>5</td>\n",
       "      <td>5</td>\n",
       "    </tr>\n",
       "    <tr>\n",
       "      <td>1</td>\n",
       "      <td>5</td>\n",
       "      <td>5</td>\n",
       "      <td>5</td>\n",
       "      <td>5</td>\n",
       "      <td>5</td>\n",
       "    </tr>\n",
       "    <tr>\n",
       "      <td>2</td>\n",
       "      <td>1</td>\n",
       "      <td>1</td>\n",
       "      <td>1</td>\n",
       "      <td>1</td>\n",
       "      <td>5</td>\n",
       "    </tr>\n",
       "    <tr>\n",
       "      <td>3</td>\n",
       "      <td>3</td>\n",
       "      <td>5</td>\n",
       "      <td>5</td>\n",
       "      <td>5</td>\n",
       "      <td>5</td>\n",
       "    </tr>\n",
       "    <tr>\n",
       "      <td>4</td>\n",
       "      <td>5</td>\n",
       "      <td>5</td>\n",
       "      <td>5</td>\n",
       "      <td>3</td>\n",
       "      <td>5</td>\n",
       "    </tr>\n",
       "    <tr>\n",
       "      <td>...</td>\n",
       "      <td>...</td>\n",
       "      <td>...</td>\n",
       "      <td>...</td>\n",
       "      <td>...</td>\n",
       "      <td>...</td>\n",
       "    </tr>\n",
       "    <tr>\n",
       "      <td>7013</td>\n",
       "      <td>5</td>\n",
       "      <td>5</td>\n",
       "      <td>5</td>\n",
       "      <td>5</td>\n",
       "      <td>5</td>\n",
       "    </tr>\n",
       "    <tr>\n",
       "      <td>7014</td>\n",
       "      <td>5</td>\n",
       "      <td>3</td>\n",
       "      <td>5</td>\n",
       "      <td>3</td>\n",
       "      <td>5</td>\n",
       "    </tr>\n",
       "    <tr>\n",
       "      <td>7015</td>\n",
       "      <td>3</td>\n",
       "      <td>3</td>\n",
       "      <td>5</td>\n",
       "      <td>3</td>\n",
       "      <td>5</td>\n",
       "    </tr>\n",
       "    <tr>\n",
       "      <td>7016</td>\n",
       "      <td>5</td>\n",
       "      <td>5</td>\n",
       "      <td>5</td>\n",
       "      <td>5</td>\n",
       "      <td>1</td>\n",
       "    </tr>\n",
       "    <tr>\n",
       "      <td>7017</td>\n",
       "      <td>5</td>\n",
       "      <td>5</td>\n",
       "      <td>5</td>\n",
       "      <td>5</td>\n",
       "      <td>5</td>\n",
       "    </tr>\n",
       "  </tbody>\n",
       "</table>\n",
       "<p>7018 rows × 5 columns</p>\n",
       "</div>"
      ],
      "text/plain": [
       "      0  1  2  3  4\n",
       "0     5  5  5  5  5\n",
       "1     5  5  5  5  5\n",
       "2     1  1  1  1  5\n",
       "3     3  5  5  5  5\n",
       "4     5  5  5  3  5\n",
       "...  .. .. .. .. ..\n",
       "7013  5  5  5  5  5\n",
       "7014  5  3  5  3  5\n",
       "7015  3  3  5  3  5\n",
       "7016  5  5  5  5  1\n",
       "7017  5  5  5  5  5\n",
       "\n",
       "[7018 rows x 5 columns]"
      ]
     },
     "execution_count": 187,
     "metadata": {},
     "output_type": "execute_result"
    }
   ],
   "source": [
    "predictdf_for5fold = pd.DataFrame([NBresult_test,SVMresult_test,RFresult_test,MLPresult_test,otherresult_test]).T\n",
    "predictdf_for5fold"
   ]
  },
  {
   "cell_type": "code",
   "execution_count": 188,
   "metadata": {},
   "outputs": [
    {
     "name": "stderr",
     "output_type": "stream",
     "text": [
      "H:\\anaconda3\\lib\\site-packages\\sklearn\\ensemble\\forest.py:245: FutureWarning: The default value of n_estimators will change from 10 in version 0.20 to 100 in 0.22.\n",
      "  \"10 in version 0.20 to 100 in 0.22.\", FutureWarning)\n",
      "H:\\anaconda3\\lib\\site-packages\\ipykernel_launcher.py:2: DataConversionWarning: A column-vector y was passed when a 1d array was expected. Please change the shape of y to (n_samples,), for example using ravel().\n",
      "  \n"
     ]
    }
   ],
   "source": [
    "final_clf=RandomForestClassifier()\n",
    "final_clf.fit(final_5_fold,df_rating)\n",
    "\n",
    "result_5f_stack=pd.DataFrame(final_clf.predict(predictdf_for5fold))"
   ]
  },
  {
   "cell_type": "code",
   "execution_count": 135,
   "metadata": {},
   "outputs": [],
   "source": [
    "print_predict(result_5f_stack).to_csv(\"5f_stack.csv\", index = None)"
   ]
  }
 ],
 "metadata": {
  "kernelspec": {
   "display_name": "Python 3",
   "language": "python",
   "name": "python3"
  },
  "language_info": {
   "codemirror_mode": {
    "name": "ipython",
    "version": 3
   },
   "file_extension": ".py",
   "mimetype": "text/x-python",
   "name": "python",
   "nbconvert_exporter": "python",
   "pygments_lexer": "ipython3",
   "version": "3.7.4"
  }
 },
 "nbformat": 4,
 "nbformat_minor": 2
}
